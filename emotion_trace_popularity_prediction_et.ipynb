{
  "nbformat": 4,
  "nbformat_minor": 0,
  "metadata": {
    "colab": {
      "name": "thesis_fiction_popularity_prediction_emotion_trace.ipynb",
      "provenance": []
    },
    "kernelspec": {
      "name": "python3",
      "display_name": "Python 3"
    },
    "accelerator": "GPU"
  },
  "cells": [
    {
      "cell_type": "code",
      "metadata": {
        "id": "yJ1r45_w1rtS",
        "colab_type": "code",
        "outputId": "cd903770-32c8-4e4a-cfdd-60a198415962",
        "colab": {
          "base_uri": "https://localhost:8080/",
          "height": 122
        }
      },
      "source": [
        "from google.colab import drive\n",
        "drive.mount('/gdrive')"
      ],
      "execution_count": 1,
      "outputs": [
        {
          "output_type": "stream",
          "text": [
            "Go to this URL in a browser: https://accounts.google.com/o/oauth2/auth?client_id=947318989803-6bn6qk8qdgf4n4g3pfee6491hc0brc4i.apps.googleusercontent.com&redirect_uri=urn%3aietf%3awg%3aoauth%3a2.0%3aoob&response_type=code&scope=email%20https%3a%2f%2fwww.googleapis.com%2fauth%2fdocs.test%20https%3a%2f%2fwww.googleapis.com%2fauth%2fdrive%20https%3a%2f%2fwww.googleapis.com%2fauth%2fdrive.photos.readonly%20https%3a%2f%2fwww.googleapis.com%2fauth%2fpeopleapi.readonly\n",
            "\n",
            "Enter your authorization code:\n",
            "··········\n",
            "Mounted at /gdrive\n"
          ],
          "name": "stdout"
        }
      ]
    },
    {
      "cell_type": "code",
      "metadata": {
        "id": "whANqlDT2QXl",
        "colab_type": "code",
        "colab": {}
      },
      "source": [
        "import tensorflow as tf\n",
        "import pandas as pd"
      ],
      "execution_count": 0,
      "outputs": []
    },
    {
      "cell_type": "code",
      "metadata": {
        "id": "-057jwPU2X_T",
        "colab_type": "code",
        "colab": {}
      },
      "source": [
        "emo_overall_df = pd.read_csv('/gdrive/My Drive/Datasets/emo_vec_overall.csv', index_col=[0])\n",
        "emo_10_df = pd.read_csv('/gdrive/My Drive/Datasets/emo_vec_10.csv', index_col=[0])\n",
        "emo_20_df = pd.read_csv('/gdrive/My Drive/Datasets/emo_vec_20.csv',index_col=[0])\n",
        "emo_30_df = pd.read_csv('/gdrive/My Drive/Datasets/emo_vec_30.csv', index_col=[0])\n",
        "emo_50_df = pd.read_csv('/gdrive/My Drive/Datasets/emo_vec_50.csv', index_col=[0])\n",
        "\n",
        "inten_overall_df = pd.read_csv('/gdrive/My Drive/Datasets/emo_inten_overall.csv', index_col=[0])\n",
        "inten_10_df = pd.read_csv('/gdrive/My Drive/Datasets/emo_inten_10.csv', index_col=[0])\n",
        "inten_20_df = pd.read_csv('/gdrive/My Drive/Datasets/emo_inten_20.csv', index_col=[0])\n",
        "inten_30_df = pd.read_csv('/gdrive/My Drive/Datasets/emo_inten_30.csv', index_col=[0])\n",
        "inten_50_df = pd.read_csv('/gdrive/My Drive/Datasets/emo_inten_50.csv', index_col=[0])"
      ],
      "execution_count": 0,
      "outputs": []
    },
    {
      "cell_type": "code",
      "metadata": {
        "id": "r6L3JNB73hnl",
        "colab_type": "code",
        "colab": {}
      },
      "source": [
        "def gen_level(x):\n",
        "  rt = 1\n",
        "  if x < 1.5:\n",
        "    rt = 1\n",
        "  elif x < 2.5:\n",
        "    rt = 2\n",
        "  elif x < 3.5:\n",
        "    rt = 3\n",
        "  elif x < 4.5:\n",
        "    rt = 4\n",
        "  else:\n",
        "    rt = 5\n",
        "  return rt"
      ],
      "execution_count": 0,
      "outputs": []
    },
    {
      "cell_type": "code",
      "metadata": {
        "id": "l_pygFnG3M8z",
        "colab_type": "code",
        "colab": {}
      },
      "source": [
        "# Generating classification labels\n",
        "emo_overall_df['level'] = emo_overall_df['rating'].apply(gen_level)"
      ],
      "execution_count": 0,
      "outputs": []
    },
    {
      "cell_type": "code",
      "metadata": {
        "id": "fNfHAShc56yI",
        "colab_type": "code",
        "outputId": "d2df1d3f-dc41-46c8-909c-f7bcf38a238c",
        "colab": {
          "base_uri": "https://localhost:8080/",
          "height": 204
        }
      },
      "source": [
        "emo_overall_df.head()"
      ],
      "execution_count": 38,
      "outputs": [
        {
          "output_type": "execute_result",
          "data": {
            "text/html": [
              "<div>\n",
              "<style scoped>\n",
              "    .dataframe tbody tr th:only-of-type {\n",
              "        vertical-align: middle;\n",
              "    }\n",
              "\n",
              "    .dataframe tbody tr th {\n",
              "        vertical-align: top;\n",
              "    }\n",
              "\n",
              "    .dataframe thead th {\n",
              "        text-align: right;\n",
              "    }\n",
              "</style>\n",
              "<table border=\"1\" class=\"dataframe\">\n",
              "  <thead>\n",
              "    <tr style=\"text-align: right;\">\n",
              "      <th></th>\n",
              "      <th>title</th>\n",
              "      <th>genre</th>\n",
              "      <th>rating</th>\n",
              "      <th>rating_count</th>\n",
              "      <th>anger</th>\n",
              "      <th>anticipation</th>\n",
              "      <th>disgust</th>\n",
              "      <th>fear</th>\n",
              "      <th>joy</th>\n",
              "      <th>sadness</th>\n",
              "      <th>surprise</th>\n",
              "      <th>trust</th>\n",
              "      <th>level</th>\n",
              "    </tr>\n",
              "  </thead>\n",
              "  <tbody>\n",
              "    <tr>\n",
              "      <th>0</th>\n",
              "      <td>The White Feather</td>\n",
              "      <td>School Stories</td>\n",
              "      <td>3.96</td>\n",
              "      <td>125</td>\n",
              "      <td>0.1147</td>\n",
              "      <td>0.1775</td>\n",
              "      <td>0.0674</td>\n",
              "      <td>0.1249</td>\n",
              "      <td>0.1129</td>\n",
              "      <td>0.1097</td>\n",
              "      <td>0.0955</td>\n",
              "      <td>0.1975</td>\n",
              "      <td>4</td>\n",
              "    </tr>\n",
              "    <tr>\n",
              "      <th>1</th>\n",
              "      <td>463</td>\n",
              "      <td>Historical Fiction</td>\n",
              "      <td>4.67</td>\n",
              "      <td>39</td>\n",
              "      <td>0.1623</td>\n",
              "      <td>0.1398</td>\n",
              "      <td>0.0718</td>\n",
              "      <td>0.1768</td>\n",
              "      <td>0.1098</td>\n",
              "      <td>0.1188</td>\n",
              "      <td>0.0999</td>\n",
              "      <td>0.1207</td>\n",
              "      <td>5</td>\n",
              "    </tr>\n",
              "    <tr>\n",
              "      <th>2</th>\n",
              "      <td>The Young Buglers</td>\n",
              "      <td>Children's Fiction</td>\n",
              "      <td>4.12</td>\n",
              "      <td>91</td>\n",
              "      <td>0.1216</td>\n",
              "      <td>0.1460</td>\n",
              "      <td>0.0595</td>\n",
              "      <td>0.1665</td>\n",
              "      <td>0.1045</td>\n",
              "      <td>0.1192</td>\n",
              "      <td>0.0894</td>\n",
              "      <td>0.1933</td>\n",
              "      <td>4</td>\n",
              "    </tr>\n",
              "    <tr>\n",
              "      <th>3</th>\n",
              "      <td>The Children's Pilgrimage</td>\n",
              "      <td>Children's Fiction</td>\n",
              "      <td>4.23</td>\n",
              "      <td>13</td>\n",
              "      <td>0.0877</td>\n",
              "      <td>0.1746</td>\n",
              "      <td>0.0695</td>\n",
              "      <td>0.1010</td>\n",
              "      <td>0.1727</td>\n",
              "      <td>0.1259</td>\n",
              "      <td>0.0815</td>\n",
              "      <td>0.1872</td>\n",
              "      <td>4</td>\n",
              "    </tr>\n",
              "    <tr>\n",
              "      <th>4</th>\n",
              "      <td>A Houseful of Girls</td>\n",
              "      <td>Children's Fiction</td>\n",
              "      <td>3.33</td>\n",
              "      <td>12</td>\n",
              "      <td>0.0863</td>\n",
              "      <td>0.1642</td>\n",
              "      <td>0.0596</td>\n",
              "      <td>0.1159</td>\n",
              "      <td>0.1519</td>\n",
              "      <td>0.1267</td>\n",
              "      <td>0.0828</td>\n",
              "      <td>0.2126</td>\n",
              "      <td>3</td>\n",
              "    </tr>\n",
              "  </tbody>\n",
              "</table>\n",
              "</div>"
            ],
            "text/plain": [
              "                       title               genre  ...   trust  level\n",
              "0          The White Feather      School Stories  ...  0.1975      4\n",
              "1                        463  Historical Fiction  ...  0.1207      5\n",
              "2          The Young Buglers  Children's Fiction  ...  0.1933      4\n",
              "3  The Children's Pilgrimage  Children's Fiction  ...  0.1872      4\n",
              "4        A Houseful of Girls  Children's Fiction  ...  0.2126      3\n",
              "\n",
              "[5 rows x 13 columns]"
            ]
          },
          "metadata": {
            "tags": []
          },
          "execution_count": 38
        }
      ]
    },
    {
      "cell_type": "markdown",
      "metadata": {
        "id": "KR68-lJQJZAO",
        "colab_type": "text"
      },
      "source": [
        "## Preparing train data and test data"
      ]
    },
    {
      "cell_type": "code",
      "metadata": {
        "id": "QSv756agTzGn",
        "colab_type": "code",
        "colab": {}
      },
      "source": [
        "import numpy as np"
      ],
      "execution_count": 0,
      "outputs": []
    },
    {
      "cell_type": "code",
      "metadata": {
        "id": "oMuSH6tT0Fiy",
        "colab_type": "code",
        "outputId": "084ea7a9-9544-4b21-882c-231fab93571b",
        "colab": {
          "base_uri": "https://localhost:8080/",
          "height": 34
        }
      },
      "source": [
        "# Prepare y labels\n",
        "y_rating = np.array(emo_overall_df.loc[:, ['rating']])\n",
        "y_rc = np.array(emo_overall_df.loc[:, ['rating_count']])\n",
        "y_dis_rating = np.array(emo_overall_df.loc[:, ['level']])\n",
        "y_rating.shape"
      ],
      "execution_count": 40,
      "outputs": [
        {
          "output_type": "execute_result",
          "data": {
            "text/plain": [
              "(925, 1)"
            ]
          },
          "metadata": {
            "tags": []
          },
          "execution_count": 40
        }
      ]
    },
    {
      "cell_type": "code",
      "metadata": {
        "id": "tajyZtmKBmgy",
        "colab_type": "code",
        "outputId": "ddf39ace-b843-4358-bc64-b6b0eaebb526",
        "colab": {
          "base_uri": "https://localhost:8080/",
          "height": 34
        }
      },
      "source": [
        "# Level labels for lstm\n",
        "y_level = pd.get_dummies(emo_overall_df['level']).values\n",
        "y_level.shape"
      ],
      "execution_count": 41,
      "outputs": [
        {
          "output_type": "execute_result",
          "data": {
            "text/plain": [
              "(925, 5)"
            ]
          },
          "metadata": {
            "tags": []
          },
          "execution_count": 41
        }
      ]
    },
    {
      "cell_type": "code",
      "metadata": {
        "id": "SnCAuXJv9lML",
        "colab_type": "code",
        "outputId": "69099d09-d4f7-495d-c0a3-f4f11962278a",
        "colab": {
          "base_uri": "https://localhost:8080/",
          "height": 34
        }
      },
      "source": [
        "# Single value level labels\n",
        "y_level_single = np.array(emo_overall_df.loc[:, ['level']])\n",
        "y_level_single.shape"
      ],
      "execution_count": 42,
      "outputs": [
        {
          "output_type": "execute_result",
          "data": {
            "text/plain": [
              "(925, 1)"
            ]
          },
          "metadata": {
            "tags": []
          },
          "execution_count": 42
        }
      ]
    },
    {
      "cell_type": "code",
      "metadata": {
        "id": "_S79yasi81YE",
        "colab_type": "code",
        "outputId": "232764e1-af67-4e52-b2b7-9f32e2c88d6e",
        "colab": {
          "base_uri": "https://localhost:8080/",
          "height": 34
        }
      },
      "source": [
        "# Genre labels for lstm\n",
        "y_genre = pd.get_dummies(emo_overall_df['genre']).values\n",
        "y_genre.shape"
      ],
      "execution_count": 43,
      "outputs": [
        {
          "output_type": "execute_result",
          "data": {
            "text/plain": [
              "(925, 10)"
            ]
          },
          "metadata": {
            "tags": []
          },
          "execution_count": 43
        }
      ]
    },
    {
      "cell_type": "code",
      "metadata": {
        "id": "lQy9h3kY95Hv",
        "colab_type": "code",
        "outputId": "5e07bf78-4b28-4043-d106-81995fef0942",
        "colab": {
          "base_uri": "https://localhost:8080/",
          "height": 34
        }
      },
      "source": [
        "# Single value genre labels\n",
        "y_genre_single = np.array(emo_overall_df.loc[:, ['genre']])\n",
        "y_genre_single.shape"
      ],
      "execution_count": 44,
      "outputs": [
        {
          "output_type": "execute_result",
          "data": {
            "text/plain": [
              "(925, 1)"
            ]
          },
          "metadata": {
            "tags": []
          },
          "execution_count": 44
        }
      ]
    },
    {
      "cell_type": "code",
      "metadata": {
        "id": "RGu_FUzI63En",
        "colab_type": "code",
        "colab": {}
      },
      "source": [
        "# Prepare X train data\n",
        "train_list = list()\n",
        "train1d_list = list()"
      ],
      "execution_count": 0,
      "outputs": []
    },
    {
      "cell_type": "code",
      "metadata": {
        "id": "JhWPqEPkYqb5",
        "colab_type": "code",
        "outputId": "8ab21f52-76a1-452c-c309-78b47d76497d",
        "colab": {
          "base_uri": "https://localhost:8080/",
          "height": 34
        }
      },
      "source": [
        "X_all = np.array(emo_overall_df.iloc[:, 4:12])\n",
        "train1d_list.append(X_all)\n",
        "n_samples = X_all.shape[0]\n",
        "X_all = X_all.reshape(n_samples, 1, 8)\n",
        "train_list.append(X_all)\n",
        "X_all.shape"
      ],
      "execution_count": 46,
      "outputs": [
        {
          "output_type": "execute_result",
          "data": {
            "text/plain": [
              "(925, 1, 8)"
            ]
          },
          "metadata": {
            "tags": []
          },
          "execution_count": 46
        }
      ]
    },
    {
      "cell_type": "code",
      "metadata": {
        "id": "T8UOvocJGK0h",
        "colab_type": "code",
        "outputId": "9fc96f89-76ad-485c-a3b5-d03f36c5a113",
        "colab": {
          "base_uri": "https://localhost:8080/",
          "height": 34
        }
      },
      "source": [
        "X_10 = np.array(emo_10_df.iloc[:, 4:])\n",
        "train1d_list.append(X_10)\n",
        "n_samples = X_10.shape[0]\n",
        "X_10 = X_10.reshape(n_samples, 10, 8)\n",
        "train_list.append(X_10)\n",
        "X_10.shape"
      ],
      "execution_count": 47,
      "outputs": [
        {
          "output_type": "execute_result",
          "data": {
            "text/plain": [
              "(925, 10, 8)"
            ]
          },
          "metadata": {
            "tags": []
          },
          "execution_count": 47
        }
      ]
    },
    {
      "cell_type": "code",
      "metadata": {
        "id": "Da1E3m9o8EDM",
        "colab_type": "code",
        "outputId": "e2fe106b-c504-459c-d9f6-42eed71a6435",
        "colab": {
          "base_uri": "https://localhost:8080/",
          "height": 34
        }
      },
      "source": [
        "X_20 = np.array(emo_20_df.iloc[:, 4:])\n",
        "train1d_list.append(X_20)\n",
        "n_samples = X_20.shape[0]\n",
        "X_20 = X_20.reshape(n_samples, 20, 8)\n",
        "train_list.append(X_20)\n",
        "X_20.shape"
      ],
      "execution_count": 48,
      "outputs": [
        {
          "output_type": "execute_result",
          "data": {
            "text/plain": [
              "(925, 20, 8)"
            ]
          },
          "metadata": {
            "tags": []
          },
          "execution_count": 48
        }
      ]
    },
    {
      "cell_type": "code",
      "metadata": {
        "id": "vQQ_QU7I8K73",
        "colab_type": "code",
        "outputId": "7a171da4-69a5-43b0-8b93-349765207211",
        "colab": {
          "base_uri": "https://localhost:8080/",
          "height": 34
        }
      },
      "source": [
        "X_30 = np.array(emo_30_df.iloc[:, 4:])\n",
        "train1d_list.append(X_30)\n",
        "n_samples = X_30.shape[0]\n",
        "X_30 = X_30.reshape(n_samples, 30, 8)\n",
        "train_list.append(X_30)\n",
        "X_30.shape"
      ],
      "execution_count": 49,
      "outputs": [
        {
          "output_type": "execute_result",
          "data": {
            "text/plain": [
              "(925, 30, 8)"
            ]
          },
          "metadata": {
            "tags": []
          },
          "execution_count": 49
        }
      ]
    },
    {
      "cell_type": "code",
      "metadata": {
        "id": "W2SxNxs0jWum",
        "colab_type": "code",
        "colab": {}
      },
      "source": [
        "# X_50 = np.array(emo_50_df.iloc[:, 4:])\n",
        "# train1d_list.append(X_50)\n",
        "# n_samples = X_50.shape[0]\n",
        "# X_50 = X_50.reshape(n_samples, 50, 8)\n",
        "# train_list.append(X_50)\n",
        "# X_50.shape"
      ],
      "execution_count": 0,
      "outputs": []
    },
    {
      "cell_type": "code",
      "metadata": {
        "id": "OeSpjRdT9K4A",
        "colab_type": "code",
        "outputId": "0a374039-6b06-4f87-bc4a-5085257db9b2",
        "colab": {
          "base_uri": "https://localhost:8080/",
          "height": 34
        }
      },
      "source": [
        "X_inten = np.array(inten_overall_df.iloc[:, 4:])\n",
        "train1d_list.append(X_inten)\n",
        "n_samples = X_inten.shape[0]\n",
        "X_inten = X_inten.reshape(n_samples, 1, 8)\n",
        "train_list.append(X_inten)\n",
        "X_inten.shape"
      ],
      "execution_count": 51,
      "outputs": [
        {
          "output_type": "execute_result",
          "data": {
            "text/plain": [
              "(925, 1, 8)"
            ]
          },
          "metadata": {
            "tags": []
          },
          "execution_count": 51
        }
      ]
    },
    {
      "cell_type": "code",
      "metadata": {
        "id": "cGjRRBPh9eax",
        "colab_type": "code",
        "outputId": "c1358d70-37ac-46e7-bbee-99bb9d8a1f2c",
        "colab": {
          "base_uri": "https://localhost:8080/",
          "height": 34
        }
      },
      "source": [
        "X_inten_10 = np.array(inten_10_df.iloc[:, 4:])\n",
        "train1d_list.append(X_inten_10)\n",
        "n_samples = X_inten_10.shape[0]\n",
        "X_inten_10 = X_inten_10.reshape(n_samples, 10, 8)\n",
        "train_list.append(X_inten_10)\n",
        "X_inten_10.shape"
      ],
      "execution_count": 52,
      "outputs": [
        {
          "output_type": "execute_result",
          "data": {
            "text/plain": [
              "(925, 10, 8)"
            ]
          },
          "metadata": {
            "tags": []
          },
          "execution_count": 52
        }
      ]
    },
    {
      "cell_type": "code",
      "metadata": {
        "id": "k3Rd4gNy9zQF",
        "colab_type": "code",
        "outputId": "bf15d8d3-fc61-428e-b0c6-8bc2aafcbde7",
        "colab": {
          "base_uri": "https://localhost:8080/",
          "height": 34
        }
      },
      "source": [
        "X_inten_20 = np.array(inten_20_df.iloc[:, 4:])\n",
        "train1d_list.append(X_inten_20)\n",
        "n_samples = X_inten_20.shape[0]\n",
        "X_inten_20 = X_inten_20.reshape(n_samples, 20, 8)\n",
        "train_list.append(X_inten_20)\n",
        "X_inten_20.shape"
      ],
      "execution_count": 53,
      "outputs": [
        {
          "output_type": "execute_result",
          "data": {
            "text/plain": [
              "(925, 20, 8)"
            ]
          },
          "metadata": {
            "tags": []
          },
          "execution_count": 53
        }
      ]
    },
    {
      "cell_type": "code",
      "metadata": {
        "id": "EDyMcuYdjj5m",
        "colab_type": "code",
        "outputId": "5baa5093-de66-4ce9-857b-573df137db4c",
        "colab": {
          "base_uri": "https://localhost:8080/",
          "height": 34
        }
      },
      "source": [
        "X_inten_30 = np.array(inten_30_df.iloc[:, 4:])\n",
        "train1d_list.append(X_inten_30)\n",
        "n_samples = X_inten_30.shape[0]\n",
        "X_inten_30 = X_inten_30.reshape(n_samples, 30, 8)\n",
        "train_list.append(X_inten_30)\n",
        "X_inten_30.shape"
      ],
      "execution_count": 54,
      "outputs": [
        {
          "output_type": "execute_result",
          "data": {
            "text/plain": [
              "(925, 30, 8)"
            ]
          },
          "metadata": {
            "tags": []
          },
          "execution_count": 54
        }
      ]
    },
    {
      "cell_type": "code",
      "metadata": {
        "id": "D0uu7cR7jsqE",
        "colab_type": "code",
        "colab": {}
      },
      "source": [
        "# X_inten_50 = np.array(inten_50_df.iloc[:, 4:])\n",
        "# train1d_list.append(X_inten_50)\n",
        "# n_samples = X_inten_50.shape[0]\n",
        "# X_inten_50 = X_inten_50.reshape(n_samples, 50, 8)\n",
        "# train_list.append(X_inten_50)\n",
        "# X_inten_50.shape"
      ],
      "execution_count": 0,
      "outputs": []
    },
    {
      "cell_type": "code",
      "metadata": {
        "id": "moqzOE34wRxI",
        "colab_type": "code",
        "colab": {}
      },
      "source": [
        "# Attention GRU network \n",
        "from tensorflow.keras.layers import Dense, Lambda, dot, Activation, concatenate\n",
        "\n",
        "\n",
        "def attention_3d_block(hidden_states):\n",
        "    \"\"\"\n",
        "    Many-to-one attention mechanism for Keras.\n",
        "    @param hidden_states: 3D tensor with shape (batch_size, time_steps, input_dim).\n",
        "    @return: 2D tensor with shape (batch_size, 128)\n",
        "    @author: felixhao28.\n",
        "    \"\"\"\n",
        "    hidden_size = int(hidden_states.shape[2])\n",
        "    # Inside dense layer\n",
        "    #              hidden_states            dot               W            =>           score_first_part\n",
        "    # (batch_size, time_steps, hidden_size) dot (hidden_size, hidden_size) => (batch_size, time_steps, hidden_size)\n",
        "    # W is the trainable weight matrix of attention Luong's multiplicative style score\n",
        "    score_first_part = Dense(hidden_size, use_bias=False, name='attention_score_vec')(hidden_states)\n",
        "    #            score_first_part           dot        last_hidden_state     => attention_weights\n",
        "    # (batch_size, time_steps, hidden_size) dot   (batch_size, hidden_size)  => (batch_size, time_steps)\n",
        "    h_t = Lambda(lambda x: x[:, -1, :], output_shape=(hidden_size,), name='last_hidden_state')(hidden_states)\n",
        "    score = dot([score_first_part, h_t], [2, 1], name='attention_score')\n",
        "    attention_weights = Activation('softmax', name='attention_weight')(score)\n",
        "    # (batch_size, time_steps, hidden_size) dot (batch_size, time_steps) => (batch_size, hidden_size)\n",
        "    context_vector = dot([hidden_states, attention_weights], [1, 1], name='context_vector')\n",
        "    pre_activation = concatenate([context_vector, h_t], name='attention_output')\n",
        "    attention_vector = Dense(128, use_bias=False, activation='tanh', name='attention_vector')(pre_activation)\n",
        "    return attention_vector"
      ],
      "execution_count": 0,
      "outputs": []
    },
    {
      "cell_type": "markdown",
      "metadata": {
        "id": "vEjznwd8JLLN",
        "colab_type": "text"
      },
      "source": [
        "## Training vectors with LSTM"
      ]
    },
    {
      "cell_type": "code",
      "metadata": {
        "id": "K3swVCdjb83K",
        "colab_type": "code",
        "colab": {}
      },
      "source": [
        "from sklearn.metrics import confusion_matrix\n",
        "from sklearn.metrics import mean_squared_error\n",
        "from sklearn.metrics import accuracy_score"
      ],
      "execution_count": 0,
      "outputs": []
    },
    {
      "cell_type": "code",
      "metadata": {
        "id": "l3DwNdg-R6Dl",
        "colab_type": "code",
        "colab": {}
      },
      "source": [
        "from tensorflow.keras import layers\n",
        "\n",
        "def buildLSTM(X_train, n_units):\n",
        "  model = tf.keras.Sequential()\n",
        "  model.add(layers.LSTM(\n",
        "    units=n_units,\n",
        "    input_shape=(X_train.shape[1], X_train.shape[2]),\n",
        "    return_sequences = True\n",
        "  ))\n",
        "  model.add(layers.Dropout(0.15))\n",
        "  model.add(layers.LSTM(units = 128, recurrent_dropout=0.2))\n",
        "  model.add(layers.Dropout(0.15))\n",
        "  model.add(layers.Dense(units=1, activation='relu'))\n",
        "  model.compile(\n",
        "    loss='mean_squared_error',\n",
        "    optimizer=tf.keras.optimizers.Adam(clipvalue=0.5),\n",
        "    metrics=['mse']\n",
        "  )\n",
        "  # model.summary()\n",
        "  return model\n",
        "\n",
        "def buildAttLSTMReg(X_train, n_units):\n",
        "  i = tf.keras.Input(shape=(X_train.shape[1], X_train.shape[2]))\n",
        "  x = layers.LSTM(\n",
        "    units=n_units,\n",
        "    return_sequences=True\n",
        "  )(i)\n",
        "  x = layers.Dropout(0.15)(x)\n",
        "  x = layers.LSTM(units = 128, recurrent_dropout=0.2, return_sequences=True)(x)\n",
        "  x = attention_3d_block(x)\n",
        "  x = layers.Dropout(0.15)(x)\n",
        "  x = layers.Dense(units=1, activation='relu')(x)\n",
        "  model = tf.keras.Model(inputs=[i], outputs=[x])\n",
        "  model.compile(loss='mean_squared_error', optimizer='adam', metrics=['mse'])\n",
        "  return model\n",
        "\n",
        "def buildAttLSTM(X_train, n_units, n_classes):\n",
        "  i = tf.keras.Input(shape=(X_train.shape[1], X_train.shape[2]))\n",
        "  x = layers.LSTM(\n",
        "    units=n_units,\n",
        "    return_sequences=True\n",
        "  )(i)\n",
        "  x = layers.Dropout(0.15)(x)\n",
        "  x = layers.LSTM(units = 128, recurrent_dropout=0.2, return_sequences=True)(x)\n",
        "  x = attention_3d_block(x)\n",
        "  x = layers.Dropout(0.15)(x)\n",
        "  x = layers.Dense(n_classes, activation='softmax')(x)\n",
        "  model = tf.keras.Model(inputs=[i], outputs=[x])\n",
        "  model.compile(loss='categorical_crossentropy', optimizer='adam', metrics=['accuracy'])\n",
        "  return model\n",
        "\n",
        "def buildClassLSTM(X_train, n_units, n_classes):\n",
        "  model = tf.keras.Sequential()\n",
        "  model.add(layers.LSTM(\n",
        "    units=n_units,\n",
        "    input_shape=(X_train.shape[1], X_train.shape[2]),\n",
        "    return_sequences = True\n",
        "  ))\n",
        "  model.add(layers.Dropout(0.15))\n",
        "  model.add(layers.LSTM(units = 128, recurrent_dropout=0.2))\n",
        "  model.add(layers.Dropout(0.15))\n",
        "  model.add(layers.Dense(n_classes, activation='softmax'))\n",
        "  model.compile(loss='categorical_crossentropy', optimizer=tf.keras.optimizers.Adam(clipvalue=0.5), metrics=['accuracy'])\n",
        "  return model"
      ],
      "execution_count": 0,
      "outputs": []
    },
    {
      "cell_type": "code",
      "metadata": {
        "id": "fC2rOe2b_0qg",
        "colab_type": "code",
        "colab": {}
      },
      "source": [
        "from sklearn.model_selection import train_test_split"
      ],
      "execution_count": 0,
      "outputs": []
    },
    {
      "cell_type": "code",
      "metadata": {
        "id": "T0cBXUfDboPs",
        "colab_type": "code",
        "colab": {}
      },
      "source": [
        "es = tf.keras.callbacks.EarlyStopping(monitor='loss', patience=10)"
      ],
      "execution_count": 0,
      "outputs": []
    },
    {
      "cell_type": "code",
      "metadata": {
        "id": "lyAYHChvNyGp",
        "colab_type": "code",
        "outputId": "2a9f221b-a23a-4fd1-a3cc-5fc6f005033a",
        "colab": {
          "base_uri": "https://localhost:8080/",
          "height": 581
        }
      },
      "source": [
        "rating_rst_LSTM = list()\n",
        "for train in train_list:\n",
        "  X_train, X_test, y_train, y_test = train_test_split(train, y_rating, test_size=0.3, random_state=26)\n",
        "  # model = buildLSTM(X_train, 512)\n",
        "  # %time model.fit(X_train, y_train, batch_size=32, epochs=50, validation_data=(X_test, y_test), callbacks=[es], verbose=0)\n",
        "  # rating_rst_LSTM.append(model.evaluate(X_test, y_test)[0])\n",
        "  model = buildAttLSTMReg(X_train, 512)\n",
        "  %time model.fit(X_train, y_train, batch_size=32, epochs=50, validation_data=(X_test, y_test), callbacks=[es], verbose=0)\n",
        "  rating_rst_LSTM.append(model.evaluate(X_test, y_test)[0])"
      ],
      "execution_count": 61,
      "outputs": [
        {
          "output_type": "stream",
          "text": [
            "WARNING:tensorflow:Layer lstm_25 will not use cuDNN kernel since it doesn't meet the cuDNN kernel criteria. It will use generic GPU kernel as fallback when running on GPU\n",
            "CPU times: user 8.65 s, sys: 610 ms, total: 9.26 s\n",
            "Wall time: 7.43 s\n",
            "9/9 [==============================] - 0s 3ms/step - loss: 0.1344 - mse: 0.1344\n",
            "WARNING:tensorflow:Layer lstm_27 will not use cuDNN kernel since it doesn't meet the cuDNN kernel criteria. It will use generic GPU kernel as fallback when running on GPU\n",
            "CPU times: user 47.5 s, sys: 5.09 s, total: 52.5 s\n",
            "Wall time: 34.5 s\n",
            "9/9 [==============================] - 0s 7ms/step - loss: 0.1397 - mse: 0.1397\n",
            "WARNING:tensorflow:Layer lstm_29 will not use cuDNN kernel since it doesn't meet the cuDNN kernel criteria. It will use generic GPU kernel as fallback when running on GPU\n",
            "CPU times: user 1min 3s, sys: 7.23 s, total: 1min 10s\n",
            "Wall time: 46.1 s\n",
            "9/9 [==============================] - 0s 8ms/step - loss: 0.1359 - mse: 0.1359\n",
            "WARNING:tensorflow:Layer lstm_31 will not use cuDNN kernel since it doesn't meet the cuDNN kernel criteria. It will use generic GPU kernel as fallback when running on GPU\n",
            "CPU times: user 36.1 s, sys: 3.92 s, total: 40 s\n",
            "Wall time: 26.4 s\n",
            "9/9 [==============================] - 0s 11ms/step - loss: 14.0865 - mse: 14.0865\n",
            "WARNING:tensorflow:Layer lstm_33 will not use cuDNN kernel since it doesn't meet the cuDNN kernel criteria. It will use generic GPU kernel as fallback when running on GPU\n",
            "CPU times: user 7.87 s, sys: 523 ms, total: 8.4 s\n",
            "Wall time: 6.9 s\n",
            "9/9 [==============================] - 0s 4ms/step - loss: 0.1342 - mse: 0.1342\n",
            "WARNING:tensorflow:Layer lstm_35 will not use cuDNN kernel since it doesn't meet the cuDNN kernel criteria. It will use generic GPU kernel as fallback when running on GPU\n",
            "CPU times: user 31.8 s, sys: 3.46 s, total: 35.2 s\n",
            "Wall time: 23.7 s\n",
            "9/9 [==============================] - 0s 5ms/step - loss: 0.1486 - mse: 0.1486\n",
            "WARNING:tensorflow:Layer lstm_37 will not use cuDNN kernel since it doesn't meet the cuDNN kernel criteria. It will use generic GPU kernel as fallback when running on GPU\n",
            "CPU times: user 1min 12s, sys: 8.26 s, total: 1min 20s\n",
            "Wall time: 52.4 s\n",
            "9/9 [==============================] - 0s 8ms/step - loss: 0.1416 - mse: 0.1416\n",
            "WARNING:tensorflow:Layer lstm_39 will not use cuDNN kernel since it doesn't meet the cuDNN kernel criteria. It will use generic GPU kernel as fallback when running on GPU\n",
            "CPU times: user 1min 15s, sys: 8.69 s, total: 1min 24s\n",
            "Wall time: 54.6 s\n",
            "9/9 [==============================] - 0s 10ms/step - loss: 0.1377 - mse: 0.1377\n"
          ],
          "name": "stdout"
        }
      ]
    },
    {
      "cell_type": "code",
      "metadata": {
        "id": "Qd3bsc_MEmc4",
        "colab_type": "code",
        "outputId": "26482d40-7297-4b36-b0ee-45d0881d3b3a",
        "colab": {
          "base_uri": "https://localhost:8080/",
          "height": 153
        }
      },
      "source": [
        "for rst in rating_rst_LSTM:\n",
        "  print(rst)"
      ],
      "execution_count": 62,
      "outputs": [
        {
          "output_type": "stream",
          "text": [
            "0.13437700271606445\n",
            "0.13969187438488007\n",
            "0.13590112328529358\n",
            "14.086481094360352\n",
            "0.13423193991184235\n",
            "0.14855536818504333\n",
            "0.1415785551071167\n",
            "0.13768453896045685\n"
          ],
          "name": "stdout"
        }
      ]
    },
    {
      "cell_type": "code",
      "metadata": {
        "id": "ZNvQ6tP-C4DU",
        "colab_type": "code",
        "outputId": "48be2cf2-0974-44a5-97fc-7929288c4c52",
        "colab": {
          "base_uri": "https://localhost:8080/",
          "height": 581
        }
      },
      "source": [
        "level_rst_LSTM = list()\n",
        "\n",
        "for train in train_list:\n",
        "  X_train, X_test, y_train, y_test = train_test_split(train, y_level, test_size=0.3, random_state=26)\n",
        "  # model = buildClassLSTM(X_train, 512, 5)\n",
        "  # %time model.fit(X_train, y_train, batch_size=32, epochs=50, validation_data=(X_test, y_test), callbacks=[es], verbose=0)\n",
        "  # level_rst_LSTM.append(model.evaluate(X_test, y_test))\n",
        "  model = buildAttLSTM(X_train, 512, 5)\n",
        "  %time model.fit(X_train, y_train, batch_size=32, epochs=50, validation_data=(X_test, y_test), callbacks=[es], verbose=0)\n",
        "  level_rst_LSTM.append(model.evaluate(X_test, y_test))"
      ],
      "execution_count": 64,
      "outputs": [
        {
          "output_type": "stream",
          "text": [
            "WARNING:tensorflow:Layer lstm_41 will not use cuDNN kernel since it doesn't meet the cuDNN kernel criteria. It will use generic GPU kernel as fallback when running on GPU\n",
            "CPU times: user 9.31 s, sys: 728 ms, total: 10 s\n",
            "Wall time: 8.01 s\n",
            "9/9 [==============================] - 0s 3ms/step - loss: 0.7135 - accuracy: 0.7302\n",
            "WARNING:tensorflow:Layer lstm_43 will not use cuDNN kernel since it doesn't meet the cuDNN kernel criteria. It will use generic GPU kernel as fallback when running on GPU\n",
            "CPU times: user 1min, sys: 6.97 s, total: 1min 7s\n",
            "Wall time: 44.5 s\n",
            "9/9 [==============================] - 0s 7ms/step - loss: 0.7263 - accuracy: 0.7266\n",
            "WARNING:tensorflow:Layer lstm_45 will not use cuDNN kernel since it doesn't meet the cuDNN kernel criteria. It will use generic GPU kernel as fallback when running on GPU\n",
            "CPU times: user 44.9 s, sys: 4.85 s, total: 49.7 s\n",
            "Wall time: 32.9 s\n",
            "9/9 [==============================] - 0s 8ms/step - loss: 0.7124 - accuracy: 0.7302\n",
            "WARNING:tensorflow:Layer lstm_47 will not use cuDNN kernel since it doesn't meet the cuDNN kernel criteria. It will use generic GPU kernel as fallback when running on GPU\n",
            "CPU times: user 50.2 s, sys: 5.79 s, total: 56 s\n",
            "Wall time: 36.9 s\n",
            "9/9 [==============================] - 0s 11ms/step - loss: 0.7268 - accuracy: 0.7302\n",
            "WARNING:tensorflow:Layer lstm_49 will not use cuDNN kernel since it doesn't meet the cuDNN kernel criteria. It will use generic GPU kernel as fallback when running on GPU\n",
            "CPU times: user 12.4 s, sys: 1.06 s, total: 13.4 s\n",
            "Wall time: 10.4 s\n",
            "9/9 [==============================] - 0s 4ms/step - loss: 0.7112 - accuracy: 0.7302\n",
            "WARNING:tensorflow:Layer lstm_51 will not use cuDNN kernel since it doesn't meet the cuDNN kernel criteria. It will use generic GPU kernel as fallback when running on GPU\n",
            "CPU times: user 30.9 s, sys: 3.33 s, total: 34.3 s\n",
            "Wall time: 23.1 s\n",
            "9/9 [==============================] - 0s 7ms/step - loss: 0.7166 - accuracy: 0.7302\n",
            "WARNING:tensorflow:Layer lstm_53 will not use cuDNN kernel since it doesn't meet the cuDNN kernel criteria. It will use generic GPU kernel as fallback when running on GPU\n",
            "CPU times: user 37.8 s, sys: 4.12 s, total: 41.9 s\n",
            "Wall time: 28 s\n",
            "9/9 [==============================] - 0s 9ms/step - loss: 0.7139 - accuracy: 0.7302\n",
            "WARNING:tensorflow:Layer lstm_55 will not use cuDNN kernel since it doesn't meet the cuDNN kernel criteria. It will use generic GPU kernel as fallback when running on GPU\n",
            "CPU times: user 1min 37s, sys: 11.1 s, total: 1min 48s\n",
            "Wall time: 1min 10s\n",
            "9/9 [==============================] - 0s 11ms/step - loss: 0.7120 - accuracy: 0.7302\n"
          ],
          "name": "stdout"
        }
      ]
    },
    {
      "cell_type": "code",
      "metadata": {
        "id": "yrQzD-oQD5c7",
        "colab_type": "code",
        "outputId": "a7b80d85-fa18-4fd0-f3de-2a1ba77a4a34",
        "colab": {
          "base_uri": "https://localhost:8080/",
          "height": 153
        }
      },
      "source": [
        "for rst in level_rst_LSTM:\n",
        "  print(rst)"
      ],
      "execution_count": 65,
      "outputs": [
        {
          "output_type": "stream",
          "text": [
            "[0.7134596109390259, 0.730215847492218]\n",
            "[0.7262634038925171, 0.7266187071800232]\n",
            "[0.7124449014663696, 0.730215847492218]\n",
            "[0.7267598509788513, 0.730215847492218]\n",
            "[0.7112473249435425, 0.730215847492218]\n",
            "[0.7165879011154175, 0.730215847492218]\n",
            "[0.7138793468475342, 0.730215847492218]\n",
            "[0.7119557857513428, 0.730215847492218]\n"
          ],
          "name": "stdout"
        }
      ]
    },
    {
      "cell_type": "code",
      "metadata": {
        "id": "ZpslcKYL-cCX",
        "colab_type": "code",
        "outputId": "ae1ce2a0-7cdf-4cd8-9c7e-9a4c473164ae",
        "colab": {
          "base_uri": "https://localhost:8080/",
          "height": 581
        }
      },
      "source": [
        "genre_rst_LSTM = list()\n",
        "for train in train_list:\n",
        "  X_train, X_test, y_train, y_test = train_test_split(train, y_genre, test_size=0.3, random_state=26)\n",
        "  # model = buildClassLSTM(X_train, 512, 10)\n",
        "  # %time model.fit(X_train, y_train, batch_size=32, epochs=50, validation_data=(X_test, y_test), callbacks=[es], verbose=0)\n",
        "  # genre_rst_LSTM.append(model.evaluate(X_test, y_test))\n",
        "  model = buildAttLSTM(X_train, 512, 10)\n",
        "  %time model.fit(X_train, y_train, batch_size=32, epochs=50, validation_data=(X_test, y_test), callbacks=[es], verbose=0)\n",
        "  genre_rst_LSTM.append(model.evaluate(X_test, y_test))"
      ],
      "execution_count": 66,
      "outputs": [
        {
          "output_type": "stream",
          "text": [
            "WARNING:tensorflow:Layer lstm_57 will not use cuDNN kernel since it doesn't meet the cuDNN kernel criteria. It will use generic GPU kernel as fallback when running on GPU\n",
            "CPU times: user 19.4 s, sys: 1.96 s, total: 21.4 s\n",
            "Wall time: 15.8 s\n",
            "9/9 [==============================] - 0s 3ms/step - loss: 1.9379 - accuracy: 0.3201\n",
            "WARNING:tensorflow:Layer lstm_59 will not use cuDNN kernel since it doesn't meet the cuDNN kernel criteria. It will use generic GPU kernel as fallback when running on GPU\n",
            "CPU times: user 1min 3s, sys: 7.15 s, total: 1min 10s\n",
            "Wall time: 46.2 s\n",
            "9/9 [==============================] - 0s 6ms/step - loss: 1.8611 - accuracy: 0.3381\n",
            "WARNING:tensorflow:Layer lstm_61 will not use cuDNN kernel since it doesn't meet the cuDNN kernel criteria. It will use generic GPU kernel as fallback when running on GPU\n",
            "CPU times: user 1min 47s, sys: 12.4 s, total: 2min\n",
            "Wall time: 1min 17s\n",
            "9/9 [==============================] - 0s 10ms/step - loss: 1.7701 - accuracy: 0.4029\n",
            "WARNING:tensorflow:Layer lstm_63 will not use cuDNN kernel since it doesn't meet the cuDNN kernel criteria. It will use generic GPU kernel as fallback when running on GPU\n",
            "CPU times: user 2min 35s, sys: 18.2 s, total: 2min 54s\n",
            "Wall time: 1min 51s\n",
            "9/9 [==============================] - 0s 16ms/step - loss: 1.9273 - accuracy: 0.3201\n",
            "WARNING:tensorflow:Layer lstm_65 will not use cuDNN kernel since it doesn't meet the cuDNN kernel criteria. It will use generic GPU kernel as fallback when running on GPU\n",
            "CPU times: user 17.3 s, sys: 1.81 s, total: 19.1 s\n",
            "Wall time: 14 s\n",
            "9/9 [==============================] - 0s 3ms/step - loss: 1.8353 - accuracy: 0.3669\n",
            "WARNING:tensorflow:Layer lstm_67 will not use cuDNN kernel since it doesn't meet the cuDNN kernel criteria. It will use generic GPU kernel as fallback when running on GPU\n",
            "CPU times: user 1min 2s, sys: 7.14 s, total: 1min 9s\n",
            "Wall time: 45.7 s\n",
            "9/9 [==============================] - 0s 6ms/step - loss: 1.7056 - accuracy: 0.4281\n",
            "WARNING:tensorflow:Layer lstm_69 will not use cuDNN kernel since it doesn't meet the cuDNN kernel criteria. It will use generic GPU kernel as fallback when running on GPU\n",
            "CPU times: user 1min 48s, sys: 12.7 s, total: 2min 1s\n",
            "Wall time: 1min 17s\n",
            "9/9 [==============================] - 0s 9ms/step - loss: 1.7157 - accuracy: 0.4317\n",
            "WARNING:tensorflow:Layer lstm_71 will not use cuDNN kernel since it doesn't meet the cuDNN kernel criteria. It will use generic GPU kernel as fallback when running on GPU\n",
            "CPU times: user 2min 35s, sys: 18 s, total: 2min 53s\n",
            "Wall time: 1min 51s\n",
            "9/9 [==============================] - 0s 15ms/step - loss: 1.7215 - accuracy: 0.4281\n"
          ],
          "name": "stdout"
        }
      ]
    },
    {
      "cell_type": "code",
      "metadata": {
        "id": "WePahLfT-sbm",
        "colab_type": "code",
        "outputId": "0ddb572b-0362-46c6-d21d-1f5ea925c5b4",
        "colab": {
          "base_uri": "https://localhost:8080/",
          "height": 153
        }
      },
      "source": [
        "for rst in genre_rst_LSTM:\n",
        "  print(rst)"
      ],
      "execution_count": 67,
      "outputs": [
        {
          "output_type": "stream",
          "text": [
            "[1.937925934791565, 0.3201438784599304]\n",
            "[1.8610889911651611, 0.3381294906139374]\n",
            "[1.77012300491333, 0.40287768840789795]\n",
            "[1.9273099899291992, 0.3201438784599304]\n",
            "[1.8352779150009155, 0.36690646409988403]\n",
            "[1.7055922746658325, 0.42805755138397217]\n",
            "[1.7157351970672607, 0.4316546618938446]\n",
            "[1.7214770317077637, 0.42805755138397217]\n"
          ],
          "name": "stdout"
        }
      ]
    },
    {
      "cell_type": "markdown",
      "metadata": {
        "id": "3r4gF0c9T65M",
        "colab_type": "text"
      },
      "source": [
        "## Training vectors with GRU"
      ]
    },
    {
      "cell_type": "code",
      "metadata": {
        "id": "wd-dLvBCTj8h",
        "colab_type": "code",
        "colab": {}
      },
      "source": [
        "def buildClassGRU(X_train, n_units, n_classes):\n",
        "  model = tf.keras.Sequential()\n",
        "  model.add(layers.GRU(\n",
        "    units=n_units,\n",
        "    input_shape=(X_train.shape[1], X_train.shape[2]),\n",
        "    return_sequences = True\n",
        "  ))\n",
        "  model.add(layers.Dropout(0.15))\n",
        "  model.add(layers.GRU(units = 128, recurrent_dropout=0.2))\n",
        "  model.add(layers.Dropout(0.15))\n",
        "  model.add(layers.Dense(n_classes, activation='softmax'))\n",
        "  model.compile(loss='categorical_crossentropy', optimizer='adam', metrics=['accuracy'])\n",
        "  return model\n",
        "\n",
        "def buildAttGRU(X_train, n_units, n_classes):\n",
        "  i = tf.keras.Input(shape=(X_train.shape[1], X_train.shape[2]))\n",
        "  x = layers.GRU(\n",
        "    units=n_units,\n",
        "    return_sequences=True\n",
        "  )(i)\n",
        "  x = layers.Dropout(0.15)(x)\n",
        "  x = layers.GRU(units = 128, recurrent_dropout=0.2, return_sequences=True)(x)\n",
        "  x = attention_3d_block(x)\n",
        "  x = layers.Dropout(0.15)(x)\n",
        "  x = layers.Dense(n_classes, activation='softmax')(x)\n",
        "  model = tf.keras.Model(inputs=[i], outputs=[x])\n",
        "  model.compile(loss='categorical_crossentropy', optimizer='adam', metrics=['accuracy'])\n",
        "  return model\n",
        "\n",
        "def buildAttGRUReg(X_train, n_units):\n",
        "  i = tf.keras.Input(shape=(X_train.shape[1], X_train.shape[2]))\n",
        "  x = layers.GRU(\n",
        "    units=n_units,\n",
        "    return_sequences=True\n",
        "  )(i)\n",
        "  x = layers.Dropout(0.15)(x)\n",
        "  x = layers.GRU(units = 128, recurrent_dropout=0.2, return_sequences=True)(x)\n",
        "  x = attention_3d_block(x)\n",
        "  x = layers.Dropout(0.15)(x)\n",
        "  x = layers.Dense(units=1, activation='relu')(x)\n",
        "  model = tf.keras.Model(inputs=[i], outputs=[x])\n",
        "  model.compile(loss='mean_squared_error', optimizer='adam', metrics=['mse'])\n",
        "  return model\n",
        "\n",
        "def buildGRU(X_train, n_units):\n",
        "  model = tf.keras.Sequential()\n",
        "  model.add(layers.GRU(\n",
        "    units=n_units,\n",
        "    input_shape=(X_train.shape[1], X_train.shape[2]),\n",
        "    return_sequences = True\n",
        "  ))\n",
        "  model.add(layers.Dropout(0.15))\n",
        "  model.add(layers.GRU(units = 128, recurrent_dropout=0.2))\n",
        "  model.add(layers.Dropout(0.15))\n",
        "  model.add(layers.Dense(units=1, activation='relu'))\n",
        "  model.compile(\n",
        "    loss='mean_squared_error',\n",
        "    optimizer='adam',\n",
        "    metrics=['mse']\n",
        "  )\n",
        "  # model.summary()\n",
        "  return model"
      ],
      "execution_count": 0,
      "outputs": []
    },
    {
      "cell_type": "code",
      "metadata": {
        "id": "AqwGzRvMT_xz",
        "colab_type": "code",
        "outputId": "626a63bb-dbbc-4fae-c97b-503d4c29781e",
        "colab": {
          "base_uri": "https://localhost:8080/",
          "height": 581
        }
      },
      "source": [
        "rating_rst_GRU = list()\n",
        "for train in train_list:\n",
        "  X_train, X_test, y_train, y_test = train_test_split(train, y_rating, test_size=0.3, random_state=26)\n",
        "  # model = buildGRU(X_train, 512)\n",
        "  # %time model.fit(X_train, y_train, batch_size=32, epochs=50, validation_data=(X_test, y_test), callbacks=[es], verbose=0)\n",
        "  # rating_rst_GRU.append(model.evaluate(X_test, y_test)[0])\n",
        "  model = buildAttGRUReg(X_train, 512)\n",
        "  %time model.fit(X_train, y_train, batch_size=32, epochs=50, validation_data=(X_test, y_test), callbacks=[es], verbose=0)\n",
        "  rating_rst_GRU.append(model.evaluate(X_test, y_test)[0])"
      ],
      "execution_count": 69,
      "outputs": [
        {
          "output_type": "stream",
          "text": [
            "WARNING:tensorflow:Layer gru_1 will not use cuDNN kernel since it doesn't meet the cuDNN kernel criteria. It will use generic GPU kernel as fallback when running on GPU\n",
            "CPU times: user 7.45 s, sys: 445 ms, total: 7.89 s\n",
            "Wall time: 6.45 s\n",
            "9/9 [==============================] - 0s 3ms/step - loss: 0.1431 - mse: 0.1431\n",
            "WARNING:tensorflow:Layer gru_3 will not use cuDNN kernel since it doesn't meet the cuDNN kernel criteria. It will use generic GPU kernel as fallback when running on GPU\n",
            "CPU times: user 25.3 s, sys: 2.46 s, total: 27.8 s\n",
            "Wall time: 18.8 s\n",
            "9/9 [==============================] - 0s 6ms/step - loss: 0.1621 - mse: 0.1621\n",
            "WARNING:tensorflow:Layer gru_5 will not use cuDNN kernel since it doesn't meet the cuDNN kernel criteria. It will use generic GPU kernel as fallback when running on GPU\n",
            "CPU times: user 1min 6s, sys: 7.06 s, total: 1min 13s\n",
            "Wall time: 47.8 s\n",
            "9/9 [==============================] - 0s 10ms/step - loss: 0.1343 - mse: 0.1343\n",
            "WARNING:tensorflow:Layer gru_7 will not use cuDNN kernel since it doesn't meet the cuDNN kernel criteria. It will use generic GPU kernel as fallback when running on GPU\n",
            "CPU times: user 1min 21s, sys: 8.91 s, total: 1min 30s\n",
            "Wall time: 58.5 s\n",
            "9/9 [==============================] - 0s 14ms/step - loss: 0.1461 - mse: 0.1461\n",
            "WARNING:tensorflow:Layer gru_9 will not use cuDNN kernel since it doesn't meet the cuDNN kernel criteria. It will use generic GPU kernel as fallback when running on GPU\n",
            "CPU times: user 12.2 s, sys: 1.03 s, total: 13.2 s\n",
            "Wall time: 10.2 s\n",
            "9/9 [==============================] - 0s 3ms/step - loss: 0.1369 - mse: 0.1369\n",
            "WARNING:tensorflow:Layer gru_11 will not use cuDNN kernel since it doesn't meet the cuDNN kernel criteria. It will use generic GPU kernel as fallback when running on GPU\n",
            "CPU times: user 34.2 s, sys: 3.51 s, total: 37.7 s\n",
            "Wall time: 25.3 s\n",
            "9/9 [==============================] - 0s 7ms/step - loss: 0.1371 - mse: 0.1371\n",
            "WARNING:tensorflow:Layer gru_13 will not use cuDNN kernel since it doesn't meet the cuDNN kernel criteria. It will use generic GPU kernel as fallback when running on GPU\n",
            "CPU times: user 37.2 s, sys: 3.93 s, total: 41.2 s\n",
            "Wall time: 27.3 s\n",
            "9/9 [==============================] - 0s 7ms/step - loss: 0.1451 - mse: 0.1451\n",
            "WARNING:tensorflow:Layer gru_15 will not use cuDNN kernel since it doesn't meet the cuDNN kernel criteria. It will use generic GPU kernel as fallback when running on GPU\n",
            "CPU times: user 1min 56s, sys: 12.9 s, total: 2min 9s\n",
            "Wall time: 1min 22s\n",
            "9/9 [==============================] - 0s 11ms/step - loss: 0.1633 - mse: 0.1633\n"
          ],
          "name": "stdout"
        }
      ]
    },
    {
      "cell_type": "code",
      "metadata": {
        "id": "EH1_28bFUIy4",
        "colab_type": "code",
        "outputId": "b4d1b975-60bc-4428-e3d9-94f9cbdb99bd",
        "colab": {
          "base_uri": "https://localhost:8080/",
          "height": 581
        }
      },
      "source": [
        "level_rst_GRU = list()\n",
        "for train in train_list:\n",
        "  X_train, X_test, y_train, y_test = train_test_split(train, y_level, test_size=0.3, random_state=26)\n",
        "  # model = buildClassGRU(X_train, 512, 5)\n",
        "  # %time model.fit(X_train, y_train, batch_size=32, epochs=50, validation_data=(X_test, y_test), callbacks=[es], verbose=0)\n",
        "  # level_rst_GRU.append(model.evaluate(X_test, y_test))\n",
        "  model = buildAttGRU(X_train, 512, 5)\n",
        "  %time model.fit(X_train, y_train, batch_size=32, epochs=50, validation_data=(X_test, y_test), callbacks=[es], verbose=0)\n",
        "  level_rst_GRU.append(model.evaluate(X_test, y_test))"
      ],
      "execution_count": 70,
      "outputs": [
        {
          "output_type": "stream",
          "text": [
            "WARNING:tensorflow:Layer gru_17 will not use cuDNN kernel since it doesn't meet the cuDNN kernel criteria. It will use generic GPU kernel as fallback when running on GPU\n",
            "CPU times: user 14.4 s, sys: 1.44 s, total: 15.9 s\n",
            "Wall time: 11.9 s\n",
            "9/9 [==============================] - 0s 3ms/step - loss: 0.7118 - accuracy: 0.7302\n",
            "WARNING:tensorflow:Layer gru_19 will not use cuDNN kernel since it doesn't meet the cuDNN kernel criteria. It will use generic GPU kernel as fallback when running on GPU\n",
            "CPU times: user 53.7 s, sys: 5.97 s, total: 59.7 s\n",
            "Wall time: 39 s\n",
            "9/9 [==============================] - 0s 5ms/step - loss: 0.7159 - accuracy: 0.7266\n",
            "WARNING:tensorflow:Layer gru_21 will not use cuDNN kernel since it doesn't meet the cuDNN kernel criteria. It will use generic GPU kernel as fallback when running on GPU\n",
            "CPU times: user 1min 43s, sys: 11.5 s, total: 1min 55s\n",
            "Wall time: 1min 14s\n",
            "9/9 [==============================] - 0s 9ms/step - loss: 0.7362 - accuracy: 0.7302\n",
            "WARNING:tensorflow:Layer gru_23 will not use cuDNN kernel since it doesn't meet the cuDNN kernel criteria. It will use generic GPU kernel as fallback when running on GPU\n",
            "CPU times: user 2min 22s, sys: 15.9 s, total: 2min 38s\n",
            "Wall time: 1min 41s\n",
            "9/9 [==============================] - 0s 10ms/step - loss: 0.7524 - accuracy: 0.7122\n",
            "WARNING:tensorflow:Layer gru_25 will not use cuDNN kernel since it doesn't meet the cuDNN kernel criteria. It will use generic GPU kernel as fallback when running on GPU\n",
            "CPU times: user 8.59 s, sys: 646 ms, total: 9.23 s\n",
            "Wall time: 7.35 s\n",
            "9/9 [==============================] - 0s 3ms/step - loss: 0.7119 - accuracy: 0.7302\n",
            "WARNING:tensorflow:Layer gru_27 will not use cuDNN kernel since it doesn't meet the cuDNN kernel criteria. It will use generic GPU kernel as fallback when running on GPU\n",
            "CPU times: user 21.2 s, sys: 1.96 s, total: 23.2 s\n",
            "Wall time: 16.3 s\n",
            "9/9 [==============================] - 0s 6ms/step - loss: 0.7203 - accuracy: 0.7302\n",
            "WARNING:tensorflow:Layer gru_29 will not use cuDNN kernel since it doesn't meet the cuDNN kernel criteria. It will use generic GPU kernel as fallback when running on GPU\n",
            "CPU times: user 1min 41s, sys: 11.4 s, total: 1min 52s\n",
            "Wall time: 1min 12s\n",
            "9/9 [==============================] - 0s 8ms/step - loss: 0.7211 - accuracy: 0.7338\n",
            "WARNING:tensorflow:Layer gru_31 will not use cuDNN kernel since it doesn't meet the cuDNN kernel criteria. It will use generic GPU kernel as fallback when running on GPU\n",
            "CPU times: user 2min 27s, sys: 16.4 s, total: 2min 43s\n",
            "Wall time: 1min 45s\n",
            "9/9 [==============================] - 0s 12ms/step - loss: 0.7234 - accuracy: 0.7158\n"
          ],
          "name": "stdout"
        }
      ]
    },
    {
      "cell_type": "code",
      "metadata": {
        "id": "G1ujayhgUM-R",
        "colab_type": "code",
        "outputId": "9485d28a-4ea8-4218-ab1e-1ed36863a20c",
        "colab": {
          "base_uri": "https://localhost:8080/",
          "height": 581
        }
      },
      "source": [
        "genre_rst_GRU = list()\n",
        "for train in train_list:\n",
        "  X_train, X_test, y_train, y_test = train_test_split(train, y_genre, test_size=0.3, random_state=26)\n",
        "  # model = buildClassGRU(X_train, 512, 10)\n",
        "  # %time model.fit(X_train, y_train, batch_size=32, epochs=50, validation_data=(X_test, y_test), callbacks=[es], verbose=0)\n",
        "  # genre_rst_GRU.append(model.evaluate(X_test, y_test))\n",
        "  model = buildAttGRU(X_train, 512, 10)\n",
        "  %time model.fit(X_train, y_train, batch_size=32, epochs=50, validation_data=(X_test, y_test), callbacks=[es], verbose=0)\n",
        "  genre_rst_GRU.append(model.evaluate(X_test, y_test))"
      ],
      "execution_count": 71,
      "outputs": [
        {
          "output_type": "stream",
          "text": [
            "WARNING:tensorflow:Layer gru_33 will not use cuDNN kernel since it doesn't meet the cuDNN kernel criteria. It will use generic GPU kernel as fallback when running on GPU\n",
            "CPU times: user 19.6 s, sys: 1.94 s, total: 21.5 s\n",
            "Wall time: 16.1 s\n",
            "9/9 [==============================] - 0s 4ms/step - loss: 1.8644 - accuracy: 0.3345\n",
            "WARNING:tensorflow:Layer gru_35 will not use cuDNN kernel since it doesn't meet the cuDNN kernel criteria. It will use generic GPU kernel as fallback when running on GPU\n",
            "CPU times: user 59 s, sys: 6.37 s, total: 1min 5s\n",
            "Wall time: 43 s\n",
            "9/9 [==============================] - 0s 7ms/step - loss: 1.9216 - accuracy: 0.3381\n",
            "WARNING:tensorflow:Layer gru_37 will not use cuDNN kernel since it doesn't meet the cuDNN kernel criteria. It will use generic GPU kernel as fallback when running on GPU\n",
            "CPU times: user 1min 40s, sys: 11.3 s, total: 1min 52s\n",
            "Wall time: 1min 12s\n",
            "9/9 [==============================] - 0s 8ms/step - loss: 1.9343 - accuracy: 0.3129\n",
            "WARNING:tensorflow:Layer gru_39 will not use cuDNN kernel since it doesn't meet the cuDNN kernel criteria. It will use generic GPU kernel as fallback when running on GPU\n",
            "CPU times: user 2min 22s, sys: 15.7 s, total: 2min 38s\n",
            "Wall time: 1min 41s\n",
            "9/9 [==============================] - 0s 15ms/step - loss: 1.8947 - accuracy: 0.3885\n",
            "WARNING:tensorflow:Layer gru_41 will not use cuDNN kernel since it doesn't meet the cuDNN kernel criteria. It will use generic GPU kernel as fallback when running on GPU\n",
            "CPU times: user 19.7 s, sys: 1.88 s, total: 21.5 s\n",
            "Wall time: 16.2 s\n",
            "9/9 [==============================] - 0s 3ms/step - loss: 1.7728 - accuracy: 0.4137\n",
            "WARNING:tensorflow:Layer gru_43 will not use cuDNN kernel since it doesn't meet the cuDNN kernel criteria. It will use generic GPU kernel as fallback when running on GPU\n",
            "CPU times: user 58 s, sys: 6.24 s, total: 1min 4s\n",
            "Wall time: 42.6 s\n",
            "9/9 [==============================] - 0s 7ms/step - loss: 1.7500 - accuracy: 0.4065\n",
            "WARNING:tensorflow:Layer gru_45 will not use cuDNN kernel since it doesn't meet the cuDNN kernel criteria. It will use generic GPU kernel as fallback when running on GPU\n",
            "CPU times: user 1min 39s, sys: 11.1 s, total: 1min 50s\n",
            "Wall time: 1min 11s\n",
            "9/9 [==============================] - 0s 8ms/step - loss: 1.8640 - accuracy: 0.3525\n",
            "WARNING:tensorflow:Layer gru_47 will not use cuDNN kernel since it doesn't meet the cuDNN kernel criteria. It will use generic GPU kernel as fallback when running on GPU\n",
            "CPU times: user 2min 23s, sys: 15.7 s, total: 2min 39s\n",
            "Wall time: 1min 42s\n",
            "9/9 [==============================] - 0s 11ms/step - loss: 1.9691 - accuracy: 0.3669\n"
          ],
          "name": "stdout"
        }
      ]
    },
    {
      "cell_type": "code",
      "metadata": {
        "id": "kfI2JM4rUtDO",
        "colab_type": "code",
        "outputId": "fb2a0838-dec0-478b-860e-9c26c93f7542",
        "colab": {
          "base_uri": "https://localhost:8080/",
          "height": 153
        }
      },
      "source": [
        "for rst in rating_rst_GRU:\n",
        "  print(rst)"
      ],
      "execution_count": 72,
      "outputs": [
        {
          "output_type": "stream",
          "text": [
            "0.14309166371822357\n",
            "0.16208791732788086\n",
            "0.13433967530727386\n",
            "0.1461094319820404\n",
            "0.13687191903591156\n",
            "0.13709449768066406\n",
            "0.1450856477022171\n",
            "0.16325178742408752\n"
          ],
          "name": "stdout"
        }
      ]
    },
    {
      "cell_type": "code",
      "metadata": {
        "id": "oexOBzEfUyjt",
        "colab_type": "code",
        "outputId": "eb053385-fd45-4d50-aeb9-48c6a7deec3b",
        "colab": {
          "base_uri": "https://localhost:8080/",
          "height": 153
        }
      },
      "source": [
        "for rst in level_rst_GRU:\n",
        "  print(rst)"
      ],
      "execution_count": 73,
      "outputs": [
        {
          "output_type": "stream",
          "text": [
            "[0.7117929458618164, 0.730215847492218]\n",
            "[0.7158686518669128, 0.7266187071800232]\n",
            "[0.7361597418785095, 0.730215847492218]\n",
            "[0.7524317502975464, 0.7122302055358887]\n",
            "[0.7118949294090271, 0.730215847492218]\n",
            "[0.7202823162078857, 0.730215847492218]\n",
            "[0.7210900187492371, 0.7338129281997681]\n",
            "[0.7234380841255188, 0.7158273458480835]\n"
          ],
          "name": "stdout"
        }
      ]
    },
    {
      "cell_type": "code",
      "metadata": {
        "id": "_sPkw9gYUy8r",
        "colab_type": "code",
        "outputId": "0db86649-716d-4d58-f60b-c4da0f9e649f",
        "colab": {
          "base_uri": "https://localhost:8080/",
          "height": 153
        }
      },
      "source": [
        "for rst in genre_rst_GRU:\n",
        "  print(rst)"
      ],
      "execution_count": 74,
      "outputs": [
        {
          "output_type": "stream",
          "text": [
            "[1.8644108772277832, 0.33453238010406494]\n",
            "[1.9215766191482544, 0.3381294906139374]\n",
            "[1.9342721700668335, 0.31294962763786316]\n",
            "[1.8946561813354492, 0.3884892165660858]\n",
            "[1.7727676630020142, 0.41366907954216003]\n",
            "[1.749974012374878, 0.4064748287200928]\n",
            "[1.8639607429504395, 0.3525179922580719]\n",
            "[1.9690543413162231, 0.36690646409988403]\n"
          ],
          "name": "stdout"
        }
      ]
    },
    {
      "cell_type": "markdown",
      "metadata": {
        "id": "647gyz3foLFe",
        "colab_type": "text"
      },
      "source": [
        "## Training vectors with SVR"
      ]
    },
    {
      "cell_type": "code",
      "metadata": {
        "id": "DAa1xk2WJmI6",
        "colab_type": "code",
        "outputId": "74b6ae90-855b-43c4-855f-c43f4072d947",
        "colab": {
          "base_uri": "https://localhost:8080/",
          "height": 153
        }
      },
      "source": [
        "for train1d in train1d_list:\n",
        "  print(train1d.shape)"
      ],
      "execution_count": 75,
      "outputs": [
        {
          "output_type": "stream",
          "text": [
            "(925, 8)\n",
            "(925, 80)\n",
            "(925, 160)\n",
            "(925, 240)\n",
            "(925, 8)\n",
            "(925, 80)\n",
            "(925, 160)\n",
            "(925, 240)\n"
          ],
          "name": "stdout"
        }
      ]
    },
    {
      "cell_type": "code",
      "metadata": {
        "id": "e4df15BGjOWP",
        "colab_type": "code",
        "colab": {}
      },
      "source": [
        "from sklearn.svm import SVR\n",
        "from sklearn.svm import SVC\n",
        "\n",
        "def buildSVR():\n",
        "  svr_rbf = SVR(kernel= 'rbf', C=1e3, gamma= 0.1)\n",
        "  return svr_rbf"
      ],
      "execution_count": 0,
      "outputs": []
    },
    {
      "cell_type": "code",
      "metadata": {
        "id": "5PQUa1bhlAo1",
        "colab_type": "code",
        "colab": {}
      },
      "source": [
        "rating_rst_SVR = list()\n",
        "y = y_rating.reshape(y_rating.shape[0], )\n",
        "\n",
        "for train1d in train1d_list:\n",
        "  X_train, X_test, y_train, y_test = train_test_split(train1d, y, test_size=0.3, random_state=73)\n",
        "  model = buildSVR()  \n",
        "  model.fit(X_train, y_train)\n",
        "  y_pred = model.predict(X_test)\n",
        "  mse = mean_squared_error(y_test, y_pred)\n",
        "  rating_rst_SVR.append(mse)"
      ],
      "execution_count": 0,
      "outputs": []
    },
    {
      "cell_type": "code",
      "metadata": {
        "id": "SXhOC5QHn7zQ",
        "colab_type": "code",
        "outputId": "c918f4f6-5600-48cf-ad47-4c9df9373a39",
        "colab": {
          "base_uri": "https://localhost:8080/",
          "height": 153
        }
      },
      "source": [
        "for rst in rating_rst_SVR:\n",
        "  print(rst)"
      ],
      "execution_count": 78,
      "outputs": [
        {
          "output_type": "stream",
          "text": [
            "0.1366490201565049\n",
            "0.19972533612914775\n",
            "0.2703584835831317\n",
            "0.289308158515243\n",
            "0.13371643524160393\n",
            "0.16103168072308163\n",
            "0.24203852184215968\n",
            "0.36034127620614725\n"
          ],
          "name": "stdout"
        }
      ]
    },
    {
      "cell_type": "code",
      "metadata": {
        "id": "Wxiuy_xzHhmJ",
        "colab_type": "code",
        "outputId": "6a401928-bb34-44d8-ee6e-9b0a0c50846b",
        "colab": {
          "base_uri": "https://localhost:8080/",
          "height": 309
        }
      },
      "source": [
        "level_rst_SVR = list()\n",
        "\n",
        "for train1d in train1d_list:\n",
        "  X_train, X_test, y_train, y_test = train_test_split(train1d, y_level_single, test_size=0.3, random_state=73)\n",
        "  clf = SVC(decision_function_shape='ovo')\n",
        "  clf.fit(X_train, y_train)\n",
        "  y_pred = clf.predict(X_test)\n",
        "  acc = accuracy_score(y_test, y_pred)\n",
        "  level_rst_SVR.append(acc)"
      ],
      "execution_count": 79,
      "outputs": [
        {
          "output_type": "stream",
          "text": [
            "/usr/local/lib/python3.6/dist-packages/sklearn/utils/validation.py:760: DataConversionWarning: A column-vector y was passed when a 1d array was expected. Please change the shape of y to (n_samples, ), for example using ravel().\n",
            "  y = column_or_1d(y, warn=True)\n",
            "/usr/local/lib/python3.6/dist-packages/sklearn/utils/validation.py:760: DataConversionWarning: A column-vector y was passed when a 1d array was expected. Please change the shape of y to (n_samples, ), for example using ravel().\n",
            "  y = column_or_1d(y, warn=True)\n",
            "/usr/local/lib/python3.6/dist-packages/sklearn/utils/validation.py:760: DataConversionWarning: A column-vector y was passed when a 1d array was expected. Please change the shape of y to (n_samples, ), for example using ravel().\n",
            "  y = column_or_1d(y, warn=True)\n",
            "/usr/local/lib/python3.6/dist-packages/sklearn/utils/validation.py:760: DataConversionWarning: A column-vector y was passed when a 1d array was expected. Please change the shape of y to (n_samples, ), for example using ravel().\n",
            "  y = column_or_1d(y, warn=True)\n",
            "/usr/local/lib/python3.6/dist-packages/sklearn/utils/validation.py:760: DataConversionWarning: A column-vector y was passed when a 1d array was expected. Please change the shape of y to (n_samples, ), for example using ravel().\n",
            "  y = column_or_1d(y, warn=True)\n",
            "/usr/local/lib/python3.6/dist-packages/sklearn/utils/validation.py:760: DataConversionWarning: A column-vector y was passed when a 1d array was expected. Please change the shape of y to (n_samples, ), for example using ravel().\n",
            "  y = column_or_1d(y, warn=True)\n",
            "/usr/local/lib/python3.6/dist-packages/sklearn/utils/validation.py:760: DataConversionWarning: A column-vector y was passed when a 1d array was expected. Please change the shape of y to (n_samples, ), for example using ravel().\n",
            "  y = column_or_1d(y, warn=True)\n",
            "/usr/local/lib/python3.6/dist-packages/sklearn/utils/validation.py:760: DataConversionWarning: A column-vector y was passed when a 1d array was expected. Please change the shape of y to (n_samples, ), for example using ravel().\n",
            "  y = column_or_1d(y, warn=True)\n"
          ],
          "name": "stderr"
        }
      ]
    },
    {
      "cell_type": "code",
      "metadata": {
        "id": "T_0jL5cuoub7",
        "colab_type": "code",
        "outputId": "605741f6-42f8-4834-89f8-4c48dcc850c7",
        "colab": {
          "base_uri": "https://localhost:8080/",
          "height": 153
        }
      },
      "source": [
        "for rst in level_rst_SVR:\n",
        "  print(rst)"
      ],
      "execution_count": 80,
      "outputs": [
        {
          "output_type": "stream",
          "text": [
            "0.7302158273381295\n",
            "0.7302158273381295\n",
            "0.7302158273381295\n",
            "0.7302158273381295\n",
            "0.7302158273381295\n",
            "0.7302158273381295\n",
            "0.7302158273381295\n",
            "0.7302158273381295\n"
          ],
          "name": "stdout"
        }
      ]
    },
    {
      "cell_type": "code",
      "metadata": {
        "id": "yhbjJzUF_CGb",
        "colab_type": "code",
        "outputId": "e9cc911f-18ca-44c4-8c44-308b438ba5dd",
        "colab": {
          "base_uri": "https://localhost:8080/",
          "height": 309
        }
      },
      "source": [
        "genre_rst_SVR = list()\n",
        "\n",
        "for train1d in train1d_list:\n",
        "  X_train, X_test, y_train, y_test = train_test_split(train1d, y_genre_single, test_size=0.3, random_state=73)\n",
        "  clf = SVC(decision_function_shape='ovo')\n",
        "  clf.fit(X_train, y_train)\n",
        "  y_pred = clf.predict(X_test)\n",
        "  acc = accuracy_score(y_test, y_pred)\n",
        "  genre_rst_SVR.append(acc)"
      ],
      "execution_count": 81,
      "outputs": [
        {
          "output_type": "stream",
          "text": [
            "/usr/local/lib/python3.6/dist-packages/sklearn/utils/validation.py:760: DataConversionWarning: A column-vector y was passed when a 1d array was expected. Please change the shape of y to (n_samples, ), for example using ravel().\n",
            "  y = column_or_1d(y, warn=True)\n",
            "/usr/local/lib/python3.6/dist-packages/sklearn/utils/validation.py:760: DataConversionWarning: A column-vector y was passed when a 1d array was expected. Please change the shape of y to (n_samples, ), for example using ravel().\n",
            "  y = column_or_1d(y, warn=True)\n",
            "/usr/local/lib/python3.6/dist-packages/sklearn/utils/validation.py:760: DataConversionWarning: A column-vector y was passed when a 1d array was expected. Please change the shape of y to (n_samples, ), for example using ravel().\n",
            "  y = column_or_1d(y, warn=True)\n",
            "/usr/local/lib/python3.6/dist-packages/sklearn/utils/validation.py:760: DataConversionWarning: A column-vector y was passed when a 1d array was expected. Please change the shape of y to (n_samples, ), for example using ravel().\n",
            "  y = column_or_1d(y, warn=True)\n",
            "/usr/local/lib/python3.6/dist-packages/sklearn/utils/validation.py:760: DataConversionWarning: A column-vector y was passed when a 1d array was expected. Please change the shape of y to (n_samples, ), for example using ravel().\n",
            "  y = column_or_1d(y, warn=True)\n",
            "/usr/local/lib/python3.6/dist-packages/sklearn/utils/validation.py:760: DataConversionWarning: A column-vector y was passed when a 1d array was expected. Please change the shape of y to (n_samples, ), for example using ravel().\n",
            "  y = column_or_1d(y, warn=True)\n",
            "/usr/local/lib/python3.6/dist-packages/sklearn/utils/validation.py:760: DataConversionWarning: A column-vector y was passed when a 1d array was expected. Please change the shape of y to (n_samples, ), for example using ravel().\n",
            "  y = column_or_1d(y, warn=True)\n",
            "/usr/local/lib/python3.6/dist-packages/sklearn/utils/validation.py:760: DataConversionWarning: A column-vector y was passed when a 1d array was expected. Please change the shape of y to (n_samples, ), for example using ravel().\n",
            "  y = column_or_1d(y, warn=True)\n"
          ],
          "name": "stderr"
        }
      ]
    },
    {
      "cell_type": "code",
      "metadata": {
        "id": "G5OwWXDy_LG2",
        "colab_type": "code",
        "outputId": "0bd818a3-c8c9-4ce4-f26e-35a93076cc02",
        "colab": {
          "base_uri": "https://localhost:8080/",
          "height": 153
        }
      },
      "source": [
        "for rst in genre_rst_SVR:\n",
        "  print(rst)"
      ],
      "execution_count": 82,
      "outputs": [
        {
          "output_type": "stream",
          "text": [
            "0.37410071942446044\n",
            "0.34172661870503596\n",
            "0.3381294964028777\n",
            "0.3273381294964029\n",
            "0.34172661870503596\n",
            "0.3273381294964029\n",
            "0.31654676258992803\n",
            "0.3273381294964029\n"
          ],
          "name": "stdout"
        }
      ]
    },
    {
      "cell_type": "markdown",
      "metadata": {
        "id": "gmNb6ifmo_mc",
        "colab_type": "text"
      },
      "source": [
        "## Training vectors with RandomForest"
      ]
    },
    {
      "cell_type": "code",
      "metadata": {
        "id": "YtWLKBuqojOf",
        "colab_type": "code",
        "colab": {}
      },
      "source": [
        "from sklearn.ensemble import RandomForestRegressor\n",
        "\n",
        "def buildRFR():\n",
        "  rfr = RandomForestRegressor(max_depth=2, random_state=0)\n",
        "  return rfr"
      ],
      "execution_count": 0,
      "outputs": []
    },
    {
      "cell_type": "code",
      "metadata": {
        "id": "GCpWczS6pfIb",
        "colab_type": "code",
        "colab": {}
      },
      "source": [
        "rating_rst_RFR = list()\n",
        "y = y_rating.reshape(y_rating.shape[0], )\n",
        "\n",
        "for train1d in train1d_list:\n",
        "  X_train, X_test, y_train, y_test = train_test_split(train1d, y, test_size=0.3, random_state=73)\n",
        "  model = buildRFR()  \n",
        "  model.fit(X_train, y_train)\n",
        "  y_pred = model.predict(X_test)\n",
        "  mse = mean_squared_error(y_test, y_pred)\n",
        "  rating_rst_RFR.append(mse)"
      ],
      "execution_count": 0,
      "outputs": []
    },
    {
      "cell_type": "code",
      "metadata": {
        "id": "Jc0WBTRMp2O7",
        "colab_type": "code",
        "outputId": "03370cd9-8ef3-40f2-941a-8f43b5d79e0b",
        "colab": {
          "base_uri": "https://localhost:8080/",
          "height": 153
        }
      },
      "source": [
        "for rst in rating_rst_RFR:\n",
        "  print(rst)"
      ],
      "execution_count": 85,
      "outputs": [
        {
          "output_type": "stream",
          "text": [
            "0.1366066203173803\n",
            "0.1341631192764336\n",
            "0.12613984801718833\n",
            "0.1291701964095838\n",
            "0.13742798552078242\n",
            "0.13408367026045598\n",
            "0.13072923390139377\n",
            "0.12687060645490253\n"
          ],
          "name": "stdout"
        }
      ]
    },
    {
      "cell_type": "code",
      "metadata": {
        "id": "sqVo434qxbl5",
        "colab_type": "code",
        "colab": {}
      },
      "source": [
        "from sklearn.ensemble import RandomForestClassifier\n",
        "\n",
        "def buildRFC():\n",
        "  rfc = RandomForestClassifier(max_depth=2, random_state=0)\n",
        "  return rfc"
      ],
      "execution_count": 0,
      "outputs": []
    },
    {
      "cell_type": "code",
      "metadata": {
        "id": "W9yOc4hNxoQh",
        "colab_type": "code",
        "colab": {
          "base_uri": "https://localhost:8080/",
          "height": 309
        },
        "outputId": "3b19a062-4525-4129-ed3e-0f2eec43abc9"
      },
      "source": [
        "level_rst_RFC = list()\n",
        "# y = y_level_single.reshape(y_level_single.shape[0], )\n",
        "\n",
        "for train1d in train1d_list:\n",
        "  X_train, X_test, y_train, y_test = train_test_split(train1d, y_level_single, test_size=0.3, random_state=73)\n",
        "  model = buildRFC()  \n",
        "  model.fit(X_train, y_train)\n",
        "  y_pred = model.predict(X_test)\n",
        "  acc = accuracy_score(y_test, y_pred)\n",
        "  level_rst_RFC.append(acc)"
      ],
      "execution_count": 91,
      "outputs": [
        {
          "output_type": "stream",
          "text": [
            "/usr/local/lib/python3.6/dist-packages/ipykernel_launcher.py:7: DataConversionWarning: A column-vector y was passed when a 1d array was expected. Please change the shape of y to (n_samples,), for example using ravel().\n",
            "  import sys\n",
            "/usr/local/lib/python3.6/dist-packages/ipykernel_launcher.py:7: DataConversionWarning: A column-vector y was passed when a 1d array was expected. Please change the shape of y to (n_samples,), for example using ravel().\n",
            "  import sys\n",
            "/usr/local/lib/python3.6/dist-packages/ipykernel_launcher.py:7: DataConversionWarning: A column-vector y was passed when a 1d array was expected. Please change the shape of y to (n_samples,), for example using ravel().\n",
            "  import sys\n",
            "/usr/local/lib/python3.6/dist-packages/ipykernel_launcher.py:7: DataConversionWarning: A column-vector y was passed when a 1d array was expected. Please change the shape of y to (n_samples,), for example using ravel().\n",
            "  import sys\n",
            "/usr/local/lib/python3.6/dist-packages/ipykernel_launcher.py:7: DataConversionWarning: A column-vector y was passed when a 1d array was expected. Please change the shape of y to (n_samples,), for example using ravel().\n",
            "  import sys\n",
            "/usr/local/lib/python3.6/dist-packages/ipykernel_launcher.py:7: DataConversionWarning: A column-vector y was passed when a 1d array was expected. Please change the shape of y to (n_samples,), for example using ravel().\n",
            "  import sys\n",
            "/usr/local/lib/python3.6/dist-packages/ipykernel_launcher.py:7: DataConversionWarning: A column-vector y was passed when a 1d array was expected. Please change the shape of y to (n_samples,), for example using ravel().\n",
            "  import sys\n",
            "/usr/local/lib/python3.6/dist-packages/ipykernel_launcher.py:7: DataConversionWarning: A column-vector y was passed when a 1d array was expected. Please change the shape of y to (n_samples,), for example using ravel().\n",
            "  import sys\n"
          ],
          "name": "stderr"
        }
      ]
    },
    {
      "cell_type": "code",
      "metadata": {
        "id": "1zzHWRRax-dk",
        "colab_type": "code",
        "outputId": "f13ac90e-c280-4290-cdc1-34cffc56c6d9",
        "colab": {
          "base_uri": "https://localhost:8080/",
          "height": 153
        }
      },
      "source": [
        "for rst in level_rst_RFC:\n",
        "  print(rst)"
      ],
      "execution_count": 92,
      "outputs": [
        {
          "output_type": "stream",
          "text": [
            "0.7302158273381295\n",
            "0.7302158273381295\n",
            "0.7302158273381295\n",
            "0.7302158273381295\n",
            "0.7302158273381295\n",
            "0.7302158273381295\n",
            "0.7302158273381295\n",
            "0.7302158273381295\n"
          ],
          "name": "stdout"
        }
      ]
    },
    {
      "cell_type": "code",
      "metadata": {
        "id": "UBxnfM1yDH43",
        "colab_type": "code",
        "colab": {
          "base_uri": "https://localhost:8080/",
          "height": 309
        },
        "outputId": "88b6cbb4-c53e-4334-c7eb-345efee62644"
      },
      "source": [
        "genre_rst_RFC = list()\n",
        "# y = y_level_single.reshape(y_level_single.shape[0], )\n",
        "\n",
        "for train1d in train1d_list:\n",
        "  X_train, X_test, y_train, y_test = train_test_split(train1d, y_genre_single, test_size=0.3, random_state=73)\n",
        "  model = buildRFC()  \n",
        "  model.fit(X_train, y_train)\n",
        "  y_pred = model.predict(X_test)\n",
        "  acc = accuracy_score(y_test, y_pred)\n",
        "  genre_rst_RFC.append(acc)"
      ],
      "execution_count": 93,
      "outputs": [
        {
          "output_type": "stream",
          "text": [
            "/usr/local/lib/python3.6/dist-packages/ipykernel_launcher.py:7: DataConversionWarning: A column-vector y was passed when a 1d array was expected. Please change the shape of y to (n_samples,), for example using ravel().\n",
            "  import sys\n",
            "/usr/local/lib/python3.6/dist-packages/ipykernel_launcher.py:7: DataConversionWarning: A column-vector y was passed when a 1d array was expected. Please change the shape of y to (n_samples,), for example using ravel().\n",
            "  import sys\n",
            "/usr/local/lib/python3.6/dist-packages/ipykernel_launcher.py:7: DataConversionWarning: A column-vector y was passed when a 1d array was expected. Please change the shape of y to (n_samples,), for example using ravel().\n",
            "  import sys\n",
            "/usr/local/lib/python3.6/dist-packages/ipykernel_launcher.py:7: DataConversionWarning: A column-vector y was passed when a 1d array was expected. Please change the shape of y to (n_samples,), for example using ravel().\n",
            "  import sys\n",
            "/usr/local/lib/python3.6/dist-packages/ipykernel_launcher.py:7: DataConversionWarning: A column-vector y was passed when a 1d array was expected. Please change the shape of y to (n_samples,), for example using ravel().\n",
            "  import sys\n",
            "/usr/local/lib/python3.6/dist-packages/ipykernel_launcher.py:7: DataConversionWarning: A column-vector y was passed when a 1d array was expected. Please change the shape of y to (n_samples,), for example using ravel().\n",
            "  import sys\n",
            "/usr/local/lib/python3.6/dist-packages/ipykernel_launcher.py:7: DataConversionWarning: A column-vector y was passed when a 1d array was expected. Please change the shape of y to (n_samples,), for example using ravel().\n",
            "  import sys\n",
            "/usr/local/lib/python3.6/dist-packages/ipykernel_launcher.py:7: DataConversionWarning: A column-vector y was passed when a 1d array was expected. Please change the shape of y to (n_samples,), for example using ravel().\n",
            "  import sys\n"
          ],
          "name": "stderr"
        }
      ]
    },
    {
      "cell_type": "code",
      "metadata": {
        "id": "4Z9cXZdsDQAG",
        "colab_type": "code",
        "outputId": "f9a123c8-b775-4777-d4da-dab0ef20f01d",
        "colab": {
          "base_uri": "https://localhost:8080/",
          "height": 153
        }
      },
      "source": [
        "for rst in genre_rst_RFC:\n",
        "  print(rst)"
      ],
      "execution_count": 94,
      "outputs": [
        {
          "output_type": "stream",
          "text": [
            "0.2697841726618705\n",
            "0.27697841726618705\n",
            "0.2733812949640288\n",
            "0.29136690647482016\n",
            "0.302158273381295\n",
            "0.2805755395683453\n",
            "0.29136690647482016\n",
            "0.2949640287769784\n"
          ],
          "name": "stdout"
        }
      ]
    }
  ]
}