{
  "nbformat": 4,
  "nbformat_minor": 0,
  "metadata": {
    "colab": {
      "name": "thesis_fiction_popularity_prediction_embedding.ipynb",
      "provenance": [],
      "machine_shape": "hm"
    },
    "kernelspec": {
      "name": "python3",
      "display_name": "Python 3"
    },
    "accelerator": "GPU"
  },
  "cells": [
    {
      "cell_type": "code",
      "metadata": {
        "id": "AvgEtVy78Ppa",
        "colab_type": "code",
        "outputId": "4088ac16-32e8-4238-d632-4a95cbc343ec",
        "colab": {
          "base_uri": "https://localhost:8080/",
          "height": 122
        }
      },
      "source": [
        "from google.colab import drive\n",
        "drive.mount('/gdrive')"
      ],
      "execution_count": 1,
      "outputs": [
        {
          "output_type": "stream",
          "text": [
            "Go to this URL in a browser: https://accounts.google.com/o/oauth2/auth?client_id=947318989803-6bn6qk8qdgf4n4g3pfee6491hc0brc4i.apps.googleusercontent.com&redirect_uri=urn%3aietf%3awg%3aoauth%3a2.0%3aoob&response_type=code&scope=email%20https%3a%2f%2fwww.googleapis.com%2fauth%2fdocs.test%20https%3a%2f%2fwww.googleapis.com%2fauth%2fdrive%20https%3a%2f%2fwww.googleapis.com%2fauth%2fdrive.photos.readonly%20https%3a%2f%2fwww.googleapis.com%2fauth%2fpeopleapi.readonly\n",
            "\n",
            "Enter your authorization code:\n",
            "··········\n",
            "Mounted at /gdrive\n"
          ],
          "name": "stdout"
        }
      ]
    },
    {
      "cell_type": "code",
      "metadata": {
        "id": "bScalP39KtIo",
        "colab_type": "code",
        "colab": {}
      },
      "source": [
        "import tensorflow as tf\n",
        "import pandas as pd\n",
        "import numpy as np"
      ],
      "execution_count": 0,
      "outputs": []
    },
    {
      "cell_type": "code",
      "metadata": {
        "id": "FO12ZKyWK0SN",
        "colab_type": "code",
        "outputId": "3f97d7fd-9031-4458-dfd2-ef9b45a8c507",
        "colab": {
          "base_uri": "https://localhost:8080/",
          "height": 204
        }
      },
      "source": [
        "genre_content_df = pd.read_csv('/gdrive/My Drive/Inbox/Datasets/books_gutenberg.csv', index_col=[0])\n",
        "genre_content_df.head()"
      ],
      "execution_count": 4,
      "outputs": [
        {
          "output_type": "execute_result",
          "data": {
            "text/html": [
              "<div>\n",
              "<style scoped>\n",
              "    .dataframe tbody tr th:only-of-type {\n",
              "        vertical-align: middle;\n",
              "    }\n",
              "\n",
              "    .dataframe tbody tr th {\n",
              "        vertical-align: top;\n",
              "    }\n",
              "\n",
              "    .dataframe thead th {\n",
              "        text-align: right;\n",
              "    }\n",
              "</style>\n",
              "<table border=\"1\" class=\"dataframe\">\n",
              "  <thead>\n",
              "    <tr style=\"text-align: right;\">\n",
              "      <th></th>\n",
              "      <th>title</th>\n",
              "      <th>genre</th>\n",
              "      <th>rating</th>\n",
              "      <th>rating_count</th>\n",
              "      <th>content_std</th>\n",
              "      <th>word_count</th>\n",
              "    </tr>\n",
              "  </thead>\n",
              "  <tbody>\n",
              "    <tr>\n",
              "      <th>0</th>\n",
              "      <td>The White Feather</td>\n",
              "      <td>School Stories</td>\n",
              "      <td>3.96</td>\n",
              "      <td>125</td>\n",
              "      <td>produced by suzanne l shell charles franks and...</td>\n",
              "      <td>44679</td>\n",
              "    </tr>\n",
              "    <tr>\n",
              "      <th>1</th>\n",
              "      <td>463</td>\n",
              "      <td>Historical Fiction</td>\n",
              "      <td>4.67</td>\n",
              "      <td>39</td>\n",
              "      <td>produced by judith boss html version by al hai...</td>\n",
              "      <td>46221</td>\n",
              "    </tr>\n",
              "    <tr>\n",
              "      <th>2</th>\n",
              "      <td>The Young Buglers</td>\n",
              "      <td>Children's Fiction</td>\n",
              "      <td>4.12</td>\n",
              "      <td>91</td>\n",
              "      <td>produced by ted garvin suzanne shell william f...</td>\n",
              "      <td>102661</td>\n",
              "    </tr>\n",
              "    <tr>\n",
              "      <th>3</th>\n",
              "      <td>The Children's Pilgrimage</td>\n",
              "      <td>Children's Fiction</td>\n",
              "      <td>4.23</td>\n",
              "      <td>13</td>\n",
              "      <td>produced by avinash kothare tom allen charles ...</td>\n",
              "      <td>83173</td>\n",
              "    </tr>\n",
              "    <tr>\n",
              "      <th>4</th>\n",
              "      <td>A Houseful of Girls</td>\n",
              "      <td>Children's Fiction</td>\n",
              "      <td>3.33</td>\n",
              "      <td>12</td>\n",
              "      <td>produced by jonathan ingram jacqueline jeremy ...</td>\n",
              "      <td>92847</td>\n",
              "    </tr>\n",
              "  </tbody>\n",
              "</table>\n",
              "</div>"
            ],
            "text/plain": [
              "                       title  ... word_count\n",
              "0          The White Feather  ...      44679\n",
              "1                        463  ...      46221\n",
              "2          The Young Buglers  ...     102661\n",
              "3  The Children's Pilgrimage  ...      83173\n",
              "4        A Houseful of Girls  ...      92847\n",
              "\n",
              "[5 rows x 6 columns]"
            ]
          },
          "metadata": {
            "tags": []
          },
          "execution_count": 4
        }
      ]
    },
    {
      "cell_type": "code",
      "metadata": {
        "id": "Wwq862Y4wWXC",
        "colab_type": "code",
        "outputId": "2046080d-47b6-481c-d0fa-eda411ed7a17",
        "colab": {
          "base_uri": "https://localhost:8080/",
          "height": 51
        }
      },
      "source": [
        "from tensorflow.keras.preprocessing.text import Tokenizer\n",
        "from tensorflow.keras import layers\n",
        "from tensorflow.keras.preprocessing.sequence import pad_sequences\n",
        "import nltk\n",
        "nltk.download('stopwords')\n",
        "from nltk.corpus import stopwords"
      ],
      "execution_count": 5,
      "outputs": [
        {
          "output_type": "stream",
          "text": [
            "[nltk_data] Downloading package stopwords to /root/nltk_data...\n",
            "[nltk_data]   Unzipping corpora/stopwords.zip.\n"
          ],
          "name": "stdout"
        }
      ]
    },
    {
      "cell_type": "code",
      "metadata": {
        "id": "rm3M5EWd59-z",
        "colab_type": "code",
        "outputId": "12eaec60-794e-4ff2-a376-f02828c2c252",
        "colab": {
          "base_uri": "https://localhost:8080/",
          "height": 289
        }
      },
      "source": [
        "stops = set(stopwords.words('english'))\n",
        "def remove_stop(text):\n",
        "    text = text.split()\n",
        "    text = [w for w in text if not w in stops and len(w) >= 3]\n",
        "    text = ' '.join(text)\n",
        "    return text\n",
        "\n",
        "genre_content_df['content'] = genre_content_df['content_std'].apply(remove_stop)\n",
        "genre_content_df.head()"
      ],
      "execution_count": 6,
      "outputs": [
        {
          "output_type": "execute_result",
          "data": {
            "text/html": [
              "<div>\n",
              "<style scoped>\n",
              "    .dataframe tbody tr th:only-of-type {\n",
              "        vertical-align: middle;\n",
              "    }\n",
              "\n",
              "    .dataframe tbody tr th {\n",
              "        vertical-align: top;\n",
              "    }\n",
              "\n",
              "    .dataframe thead th {\n",
              "        text-align: right;\n",
              "    }\n",
              "</style>\n",
              "<table border=\"1\" class=\"dataframe\">\n",
              "  <thead>\n",
              "    <tr style=\"text-align: right;\">\n",
              "      <th></th>\n",
              "      <th>title</th>\n",
              "      <th>genre</th>\n",
              "      <th>rating</th>\n",
              "      <th>rating_count</th>\n",
              "      <th>content_std</th>\n",
              "      <th>word_count</th>\n",
              "      <th>content</th>\n",
              "    </tr>\n",
              "  </thead>\n",
              "  <tbody>\n",
              "    <tr>\n",
              "      <th>0</th>\n",
              "      <td>The White Feather</td>\n",
              "      <td>School Stories</td>\n",
              "      <td>3.96</td>\n",
              "      <td>125</td>\n",
              "      <td>produced by suzanne l shell charles franks and...</td>\n",
              "      <td>44679</td>\n",
              "      <td>produced suzanne shell charles franks online d...</td>\n",
              "    </tr>\n",
              "    <tr>\n",
              "      <th>1</th>\n",
              "      <td>463</td>\n",
              "      <td>Historical Fiction</td>\n",
              "      <td>4.67</td>\n",
              "      <td>39</td>\n",
              "      <td>produced by judith boss html version by al hai...</td>\n",
              "      <td>46221</td>\n",
              "      <td>produced judith boss html version haines red b...</td>\n",
              "    </tr>\n",
              "    <tr>\n",
              "      <th>2</th>\n",
              "      <td>The Young Buglers</td>\n",
              "      <td>Children's Fiction</td>\n",
              "      <td>4.12</td>\n",
              "      <td>91</td>\n",
              "      <td>produced by ted garvin suzanne shell william f...</td>\n",
              "      <td>102661</td>\n",
              "      <td>produced ted garvin suzanne shell william flis...</td>\n",
              "    </tr>\n",
              "    <tr>\n",
              "      <th>3</th>\n",
              "      <td>The Children's Pilgrimage</td>\n",
              "      <td>Children's Fiction</td>\n",
              "      <td>4.23</td>\n",
              "      <td>13</td>\n",
              "      <td>produced by avinash kothare tom allen charles ...</td>\n",
              "      <td>83173</td>\n",
              "      <td>produced avinash kothare tom allen charles fra...</td>\n",
              "    </tr>\n",
              "    <tr>\n",
              "      <th>4</th>\n",
              "      <td>A Houseful of Girls</td>\n",
              "      <td>Children's Fiction</td>\n",
              "      <td>3.33</td>\n",
              "      <td>12</td>\n",
              "      <td>produced by jonathan ingram jacqueline jeremy ...</td>\n",
              "      <td>92847</td>\n",
              "      <td>produced jonathan ingram jacqueline jeremy onl...</td>\n",
              "    </tr>\n",
              "  </tbody>\n",
              "</table>\n",
              "</div>"
            ],
            "text/plain": [
              "                       title  ...                                            content\n",
              "0          The White Feather  ...  produced suzanne shell charles franks online d...\n",
              "1                        463  ...  produced judith boss html version haines red b...\n",
              "2          The Young Buglers  ...  produced ted garvin suzanne shell william flis...\n",
              "3  The Children's Pilgrimage  ...  produced avinash kothare tom allen charles fra...\n",
              "4        A Houseful of Girls  ...  produced jonathan ingram jacqueline jeremy onl...\n",
              "\n",
              "[5 rows x 7 columns]"
            ]
          },
          "metadata": {
            "tags": []
          },
          "execution_count": 6
        }
      ]
    },
    {
      "cell_type": "code",
      "metadata": {
        "id": "r86C36Xc_ttt",
        "colab_type": "code",
        "colab": {}
      },
      "source": [
        "def gen_level(x):\n",
        "  rt = 1\n",
        "  if x < 1.5:\n",
        "    rt = 1\n",
        "  elif x < 2.5:\n",
        "    rt = 2\n",
        "  elif x < 3.5:\n",
        "    rt = 3\n",
        "  elif x < 4.5:\n",
        "    rt = 4\n",
        "  else:\n",
        "    rt = 5\n",
        "  return rt\n",
        "\n",
        "# Generating classification labels\n",
        "genre_content_df['level'] = genre_content_df['rating'].apply(gen_level)"
      ],
      "execution_count": 0,
      "outputs": []
    },
    {
      "cell_type": "code",
      "metadata": {
        "id": "i8xFjhFa_saz",
        "colab_type": "code",
        "outputId": "49282d70-c1c7-497d-e9ab-3ffac61329ff",
        "colab": {
          "base_uri": "https://localhost:8080/",
          "height": 34
        }
      },
      "source": [
        "# Level labels for lstm\n",
        "y_level = pd.get_dummies(genre_content_df['level']).values\n",
        "y_level.shape"
      ],
      "execution_count": 8,
      "outputs": [
        {
          "output_type": "execute_result",
          "data": {
            "text/plain": [
              "(925, 5)"
            ]
          },
          "metadata": {
            "tags": []
          },
          "execution_count": 8
        }
      ]
    },
    {
      "cell_type": "code",
      "metadata": {
        "id": "ZSIKLDbfAE2_",
        "colab_type": "code",
        "outputId": "753f6d90-ee25-4b27-a992-5b4bd9ea11ef",
        "colab": {
          "base_uri": "https://localhost:8080/",
          "height": 34
        }
      },
      "source": [
        "# Genre labels for lstm\n",
        "y_genre = pd.get_dummies(genre_content_df['genre']).values\n",
        "y_genre.shape"
      ],
      "execution_count": 9,
      "outputs": [
        {
          "output_type": "execute_result",
          "data": {
            "text/plain": [
              "(925, 10)"
            ]
          },
          "metadata": {
            "tags": []
          },
          "execution_count": 9
        }
      ]
    },
    {
      "cell_type": "code",
      "metadata": {
        "id": "_yded0g0wiZF",
        "colab_type": "code",
        "colab": {}
      },
      "source": [
        "max_features = 5000\n",
        "tokenizer = Tokenizer(num_words=max_features)\n",
        "tokenizer.fit_on_texts(genre_content_df['content'].values)\n",
        "X = tokenizer.texts_to_sequences(genre_content_df['content'].values)\n",
        "X = pad_sequences(X, maxlen=1000)"
      ],
      "execution_count": 0,
      "outputs": []
    },
    {
      "cell_type": "code",
      "metadata": {
        "id": "rZ2xcH3d0Xdu",
        "colab_type": "code",
        "outputId": "4049fe0b-a71b-4ae4-98d4-95dc7bf36618",
        "colab": {
          "base_uri": "https://localhost:8080/",
          "height": 34
        }
      },
      "source": [
        "X.shape"
      ],
      "execution_count": 11,
      "outputs": [
        {
          "output_type": "execute_result",
          "data": {
            "text/plain": [
              "(925, 1000)"
            ]
          },
          "metadata": {
            "tags": []
          },
          "execution_count": 11
        }
      ]
    },
    {
      "cell_type": "code",
      "metadata": {
        "id": "3xcLn-7l8CHj",
        "colab_type": "code",
        "outputId": "627ef86e-839b-45f6-8881-6bfb6d5af31a",
        "colab": {
          "base_uri": "https://localhost:8080/",
          "height": 136
        }
      },
      "source": [
        "X"
      ],
      "execution_count": 12,
      "outputs": [
        {
          "output_type": "execute_result",
          "data": {
            "text/plain": [
              "array([[1027,   92,  158, ..., 2288,  131, 4157],\n",
              "       [ 295, 1354, 1450, ...,  292, 1100, 4211],\n",
              "       [ 835, 1583,  218, ...,  937, 2288,   69],\n",
              "       ...,\n",
              "       [ 711,  497, 1253, ..., 2288,  396, 3585],\n",
              "       [ 216,  672,  217, ..., 4997,  782, 3585],\n",
              "       [ 431,   39,  911, ...,  937, 2288, 3585]], dtype=int32)"
            ]
          },
          "metadata": {
            "tags": []
          },
          "execution_count": 12
        }
      ]
    },
    {
      "cell_type": "code",
      "metadata": {
        "id": "_8mKdZTFzp5Z",
        "colab_type": "code",
        "outputId": "85270e77-954c-4220-c600-7143fb67ff29",
        "colab": {
          "base_uri": "https://localhost:8080/",
          "height": 34
        }
      },
      "source": [
        "y = np.array(genre_content_df.loc[:, ['rating']])\n",
        "y_rc = np.array(genre_content_df.loc[:, ['rating_count']])\n",
        "y.shape"
      ],
      "execution_count": 13,
      "outputs": [
        {
          "output_type": "execute_result",
          "data": {
            "text/plain": [
              "(925, 1)"
            ]
          },
          "metadata": {
            "tags": []
          },
          "execution_count": 13
        }
      ]
    },
    {
      "cell_type": "code",
      "metadata": {
        "id": "PjcPB1M_zOQ4",
        "colab_type": "code",
        "colab": {}
      },
      "source": [
        "def genLSTM():\n",
        "    model = tf.keras.Sequential()\n",
        "    vector_length = 128\n",
        "    model.add(layers.Embedding(max_features, vector_length, input_length=X.shape[1]))\n",
        "    model.add(layers.LSTM(\n",
        "        units=64,\n",
        "        return_sequences = True\n",
        "        ))\n",
        "    model.add(layers.Dropout(0.15))\n",
        "    model.add(layers.LSTM(units = 32))\n",
        "    model.add(layers.Dropout(0.15))\n",
        "    model.add(layers.Dense(units=1))\n",
        "    model.compile(\n",
        "        loss='mean_squared_error',\n",
        "        optimizer='adam',\n",
        "        metrics=['mse']\n",
        "        )\n",
        "    model.summary()\n",
        "    return model\n",
        "\n",
        "def genClassLSTM(n_classes):\n",
        "    model = tf.keras.Sequential()\n",
        "    vector_length = 128\n",
        "    model.add(layers.Embedding(max_features, vector_length, input_length=X.shape[1]))\n",
        "    model.add(layers.LSTM(\n",
        "        units=64,\n",
        "        return_sequences = True\n",
        "        ))\n",
        "    model.add(layers.Dropout(0.15))\n",
        "    model.add(layers.LSTM(units = 32))\n",
        "    model.add(layers.Dropout(0.15))\n",
        "    model.add(layers.Dense(n_classes, activation='softmax'))\n",
        "    model.compile(loss='categorical_crossentropy', optimizer='adam', metrics=['accuracy'])\n",
        "    model.summary()\n",
        "    return model"
      ],
      "execution_count": 0,
      "outputs": []
    },
    {
      "cell_type": "code",
      "metadata": {
        "id": "Czh5-bGT-3qg",
        "colab_type": "code",
        "colab": {}
      },
      "source": [
        "from sklearn.model_selection import train_test_split"
      ],
      "execution_count": 0,
      "outputs": []
    },
    {
      "cell_type": "code",
      "metadata": {
        "id": "_2R1c3wA178c",
        "colab_type": "code",
        "outputId": "da044775-17bb-4c67-ce30-fd493158e714",
        "colab": {
          "base_uri": "https://localhost:8080/",
          "height": 1000
        }
      },
      "source": [
        "X_train, X_test, y_train, y_test = train_test_split(X, y, test_size=0.3, random_state=73)\n",
        "rating_model = genLSTM()\n",
        "%time rating_model.fit(X_train, y_train, shuffle=True, validation_data=(X_test, y_test), verbose=2, batch_size=64, epochs=50)"
      ],
      "execution_count": 16,
      "outputs": [
        {
          "output_type": "stream",
          "text": [
            "Model: \"sequential\"\n",
            "_________________________________________________________________\n",
            "Layer (type)                 Output Shape              Param #   \n",
            "=================================================================\n",
            "embedding (Embedding)        (None, 1000, 128)         640000    \n",
            "_________________________________________________________________\n",
            "lstm (LSTM)                  (None, 1000, 64)          49408     \n",
            "_________________________________________________________________\n",
            "dropout (Dropout)            (None, 1000, 64)          0         \n",
            "_________________________________________________________________\n",
            "lstm_1 (LSTM)                (None, 32)                12416     \n",
            "_________________________________________________________________\n",
            "dropout_1 (Dropout)          (None, 32)                0         \n",
            "_________________________________________________________________\n",
            "dense (Dense)                (None, 1)                 33        \n",
            "=================================================================\n",
            "Total params: 701,857\n",
            "Trainable params: 701,857\n",
            "Non-trainable params: 0\n",
            "_________________________________________________________________\n",
            "Epoch 1/50\n",
            "11/11 - 2s - loss: 12.5187 - mse: 12.5187 - val_loss: 7.0812 - val_mse: 7.0812\n",
            "Epoch 2/50\n",
            "11/11 - 1s - loss: 1.8107 - mse: 1.8107 - val_loss: 0.2959 - val_mse: 0.2959\n",
            "Epoch 3/50\n",
            "11/11 - 1s - loss: 0.3766 - mse: 0.3766 - val_loss: 0.1747 - val_mse: 0.1747\n",
            "Epoch 4/50\n",
            "11/11 - 1s - loss: 0.3306 - mse: 0.3306 - val_loss: 0.1291 - val_mse: 0.1291\n",
            "Epoch 5/50\n",
            "11/11 - 1s - loss: 0.2717 - mse: 0.2717 - val_loss: 0.1286 - val_mse: 0.1286\n",
            "Epoch 6/50\n",
            "11/11 - 1s - loss: 0.3005 - mse: 0.3005 - val_loss: 0.1315 - val_mse: 0.1315\n",
            "Epoch 7/50\n",
            "11/11 - 1s - loss: 0.3035 - mse: 0.3035 - val_loss: 0.1287 - val_mse: 0.1287\n",
            "Epoch 8/50\n",
            "11/11 - 1s - loss: 0.2883 - mse: 0.2883 - val_loss: 0.1295 - val_mse: 0.1295\n",
            "Epoch 9/50\n",
            "11/11 - 1s - loss: 0.3100 - mse: 0.3100 - val_loss: 0.1298 - val_mse: 0.1298\n",
            "Epoch 10/50\n",
            "11/11 - 1s - loss: 0.2779 - mse: 0.2779 - val_loss: 0.1281 - val_mse: 0.1281\n",
            "Epoch 11/50\n",
            "11/11 - 1s - loss: 0.2987 - mse: 0.2987 - val_loss: 0.1281 - val_mse: 0.1281\n",
            "Epoch 12/50\n",
            "11/11 - 1s - loss: 0.2892 - mse: 0.2892 - val_loss: 0.1303 - val_mse: 0.1303\n",
            "Epoch 13/50\n",
            "11/11 - 1s - loss: 0.3232 - mse: 0.3232 - val_loss: 0.1280 - val_mse: 0.1280\n",
            "Epoch 14/50\n",
            "11/11 - 1s - loss: 0.2713 - mse: 0.2713 - val_loss: 0.1286 - val_mse: 0.1286\n",
            "Epoch 15/50\n",
            "11/11 - 1s - loss: 0.2921 - mse: 0.2921 - val_loss: 0.1276 - val_mse: 0.1276\n",
            "Epoch 16/50\n",
            "11/11 - 1s - loss: 0.3183 - mse: 0.3183 - val_loss: 0.1322 - val_mse: 0.1322\n",
            "Epoch 17/50\n",
            "11/11 - 1s - loss: 0.2830 - mse: 0.2830 - val_loss: 0.1269 - val_mse: 0.1269\n",
            "Epoch 18/50\n",
            "11/11 - 1s - loss: 0.2813 - mse: 0.2813 - val_loss: 0.1273 - val_mse: 0.1273\n",
            "Epoch 19/50\n",
            "11/11 - 1s - loss: 0.2456 - mse: 0.2456 - val_loss: 0.1286 - val_mse: 0.1286\n",
            "Epoch 20/50\n",
            "11/11 - 1s - loss: 0.2757 - mse: 0.2757 - val_loss: 0.1259 - val_mse: 0.1259\n",
            "Epoch 21/50\n",
            "11/11 - 1s - loss: 0.2779 - mse: 0.2779 - val_loss: 0.1254 - val_mse: 0.1254\n",
            "Epoch 22/50\n",
            "11/11 - 1s - loss: 0.2603 - mse: 0.2603 - val_loss: 0.1424 - val_mse: 0.1424\n",
            "Epoch 23/50\n",
            "11/11 - 1s - loss: 0.2560 - mse: 0.2560 - val_loss: 0.1286 - val_mse: 0.1286\n",
            "Epoch 24/50\n",
            "11/11 - 1s - loss: 0.2553 - mse: 0.2553 - val_loss: 0.1351 - val_mse: 0.1351\n",
            "Epoch 25/50\n",
            "11/11 - 1s - loss: 0.2291 - mse: 0.2291 - val_loss: 0.1238 - val_mse: 0.1238\n",
            "Epoch 26/50\n",
            "11/11 - 1s - loss: 0.2396 - mse: 0.2396 - val_loss: 0.1380 - val_mse: 0.1380\n",
            "Epoch 27/50\n",
            "11/11 - 1s - loss: 0.2323 - mse: 0.2323 - val_loss: 0.1246 - val_mse: 0.1246\n",
            "Epoch 28/50\n",
            "11/11 - 1s - loss: 0.2347 - mse: 0.2347 - val_loss: 0.1401 - val_mse: 0.1401\n",
            "Epoch 29/50\n",
            "11/11 - 1s - loss: 0.2313 - mse: 0.2313 - val_loss: 0.1253 - val_mse: 0.1253\n",
            "Epoch 30/50\n",
            "11/11 - 1s - loss: 0.2346 - mse: 0.2346 - val_loss: 0.1312 - val_mse: 0.1312\n",
            "Epoch 31/50\n",
            "11/11 - 1s - loss: 0.2248 - mse: 0.2248 - val_loss: 0.1252 - val_mse: 0.1252\n",
            "Epoch 32/50\n",
            "11/11 - 1s - loss: 0.2064 - mse: 0.2064 - val_loss: 0.1267 - val_mse: 0.1267\n",
            "Epoch 33/50\n",
            "11/11 - 1s - loss: 0.2244 - mse: 0.2244 - val_loss: 0.1288 - val_mse: 0.1288\n",
            "Epoch 34/50\n",
            "11/11 - 1s - loss: 0.1967 - mse: 0.1967 - val_loss: 0.1296 - val_mse: 0.1296\n",
            "Epoch 35/50\n",
            "11/11 - 1s - loss: 0.1912 - mse: 0.1912 - val_loss: 0.1288 - val_mse: 0.1288\n",
            "Epoch 36/50\n",
            "11/11 - 1s - loss: 0.2067 - mse: 0.2067 - val_loss: 0.1354 - val_mse: 0.1354\n",
            "Epoch 37/50\n",
            "11/11 - 1s - loss: 0.2136 - mse: 0.2136 - val_loss: 0.1397 - val_mse: 0.1397\n",
            "Epoch 38/50\n",
            "11/11 - 1s - loss: 0.2160 - mse: 0.2160 - val_loss: 0.1330 - val_mse: 0.1330\n",
            "Epoch 39/50\n",
            "11/11 - 1s - loss: 0.2104 - mse: 0.2104 - val_loss: 0.1388 - val_mse: 0.1388\n",
            "Epoch 40/50\n",
            "11/11 - 1s - loss: 0.1824 - mse: 0.1824 - val_loss: 0.1340 - val_mse: 0.1340\n",
            "Epoch 41/50\n",
            "11/11 - 1s - loss: 0.1941 - mse: 0.1941 - val_loss: 0.1341 - val_mse: 0.1341\n",
            "Epoch 42/50\n",
            "11/11 - 1s - loss: 0.1909 - mse: 0.1909 - val_loss: 0.1360 - val_mse: 0.1360\n",
            "Epoch 43/50\n",
            "11/11 - 1s - loss: 0.1961 - mse: 0.1961 - val_loss: 0.1455 - val_mse: 0.1455\n",
            "Epoch 44/50\n",
            "11/11 - 1s - loss: 0.1841 - mse: 0.1841 - val_loss: 0.1385 - val_mse: 0.1385\n",
            "Epoch 45/50\n",
            "11/11 - 1s - loss: 0.1870 - mse: 0.1870 - val_loss: 0.1366 - val_mse: 0.1366\n",
            "Epoch 46/50\n",
            "11/11 - 1s - loss: 0.1868 - mse: 0.1868 - val_loss: 0.1431 - val_mse: 0.1431\n",
            "Epoch 47/50\n",
            "11/11 - 1s - loss: 0.1757 - mse: 0.1757 - val_loss: 0.1657 - val_mse: 0.1657\n",
            "Epoch 48/50\n",
            "11/11 - 1s - loss: 0.1711 - mse: 0.1711 - val_loss: 0.1489 - val_mse: 0.1489\n",
            "Epoch 49/50\n",
            "11/11 - 1s - loss: 0.1776 - mse: 0.1776 - val_loss: 0.1393 - val_mse: 0.1393\n",
            "Epoch 50/50\n",
            "11/11 - 1s - loss: 0.1564 - mse: 0.1564 - val_loss: 0.1376 - val_mse: 0.1376\n",
            "CPU times: user 1min 9s, sys: 5.07 s, total: 1min 14s\n",
            "Wall time: 1min 13s\n"
          ],
          "name": "stdout"
        },
        {
          "output_type": "execute_result",
          "data": {
            "text/plain": [
              "<tensorflow.python.keras.callbacks.History at 0x7f5c2e79dd68>"
            ]
          },
          "metadata": {
            "tags": []
          },
          "execution_count": 16
        }
      ]
    },
    {
      "cell_type": "code",
      "metadata": {
        "id": "KVhgWlpz-Nfu",
        "colab_type": "code",
        "outputId": "25258005-75d4-4701-c51a-541829241bf6",
        "colab": {
          "base_uri": "https://localhost:8080/",
          "height": 51
        }
      },
      "source": [
        "rating_model.evaluate(X_test, y_test)"
      ],
      "execution_count": 17,
      "outputs": [
        {
          "output_type": "stream",
          "text": [
            "9/9 [==============================] - 0s 28ms/step - loss: 0.1376 - mse: 0.1376\n"
          ],
          "name": "stdout"
        },
        {
          "output_type": "execute_result",
          "data": {
            "text/plain": [
              "[0.13762274384498596, 0.13762274384498596]"
            ]
          },
          "metadata": {
            "tags": []
          },
          "execution_count": 17
        }
      ]
    },
    {
      "cell_type": "code",
      "metadata": {
        "id": "pSAwLTgfAtji",
        "colab_type": "code",
        "outputId": "1989a462-5ea1-4931-c899-aef49fca3c0b",
        "colab": {
          "base_uri": "https://localhost:8080/",
          "height": 1000
        }
      },
      "source": [
        "X_train, X_test, y_train, y_test = train_test_split(X, y_level, test_size=0.3, random_state=73)\n",
        "level_model = genClassLSTM(5)\n",
        "%time level_model.fit(X_train, y_train, shuffle=True, validation_data=(X_test, y_test), verbose=2, batch_size=64, epochs=50)"
      ],
      "execution_count": 18,
      "outputs": [
        {
          "output_type": "stream",
          "text": [
            "Model: \"sequential_1\"\n",
            "_________________________________________________________________\n",
            "Layer (type)                 Output Shape              Param #   \n",
            "=================================================================\n",
            "embedding_1 (Embedding)      (None, 1000, 128)         640000    \n",
            "_________________________________________________________________\n",
            "lstm_2 (LSTM)                (None, 1000, 64)          49408     \n",
            "_________________________________________________________________\n",
            "dropout_2 (Dropout)          (None, 1000, 64)          0         \n",
            "_________________________________________________________________\n",
            "lstm_3 (LSTM)                (None, 32)                12416     \n",
            "_________________________________________________________________\n",
            "dropout_3 (Dropout)          (None, 32)                0         \n",
            "_________________________________________________________________\n",
            "dense_1 (Dense)              (None, 5)                 165       \n",
            "=================================================================\n",
            "Total params: 701,989\n",
            "Trainable params: 701,989\n",
            "Non-trainable params: 0\n",
            "_________________________________________________________________\n",
            "Epoch 1/50\n",
            "11/11 - 2s - loss: 1.5236 - accuracy: 0.6646 - val_loss: 1.2456 - val_accuracy: 0.7302\n",
            "Epoch 2/50\n",
            "11/11 - 1s - loss: 0.9769 - accuracy: 0.7342 - val_loss: 0.7509 - val_accuracy: 0.7302\n",
            "Epoch 3/50\n",
            "11/11 - 1s - loss: 0.7804 - accuracy: 0.7342 - val_loss: 0.6918 - val_accuracy: 0.7302\n",
            "Epoch 4/50\n",
            "11/11 - 1s - loss: 0.7655 - accuracy: 0.7342 - val_loss: 0.6831 - val_accuracy: 0.7302\n",
            "Epoch 5/50\n",
            "11/11 - 1s - loss: 0.7462 - accuracy: 0.7342 - val_loss: 0.6782 - val_accuracy: 0.7302\n",
            "Epoch 6/50\n",
            "11/11 - 1s - loss: 0.7472 - accuracy: 0.7342 - val_loss: 0.6761 - val_accuracy: 0.7302\n",
            "Epoch 7/50\n",
            "11/11 - 1s - loss: 0.7375 - accuracy: 0.7342 - val_loss: 0.6779 - val_accuracy: 0.7302\n",
            "Epoch 8/50\n",
            "11/11 - 1s - loss: 0.7352 - accuracy: 0.7342 - val_loss: 0.6816 - val_accuracy: 0.7302\n",
            "Epoch 9/50\n",
            "11/11 - 1s - loss: 0.7247 - accuracy: 0.7342 - val_loss: 0.6849 - val_accuracy: 0.7302\n",
            "Epoch 10/50\n",
            "11/11 - 1s - loss: 0.6666 - accuracy: 0.7403 - val_loss: 0.6744 - val_accuracy: 0.7302\n",
            "Epoch 11/50\n",
            "11/11 - 1s - loss: 0.5219 - accuracy: 0.8022 - val_loss: 0.7514 - val_accuracy: 0.6331\n",
            "Epoch 12/50\n",
            "11/11 - 1s - loss: 0.4466 - accuracy: 0.8594 - val_loss: 0.8157 - val_accuracy: 0.6799\n",
            "Epoch 13/50\n",
            "11/11 - 1s - loss: 0.4514 - accuracy: 0.8470 - val_loss: 0.8793 - val_accuracy: 0.7230\n",
            "Epoch 14/50\n",
            "11/11 - 1s - loss: 0.3540 - accuracy: 0.8686 - val_loss: 0.9670 - val_accuracy: 0.6978\n",
            "Epoch 15/50\n",
            "11/11 - 1s - loss: 0.3174 - accuracy: 0.8964 - val_loss: 1.0118 - val_accuracy: 0.5935\n",
            "Epoch 16/50\n",
            "11/11 - 1s - loss: 0.3452 - accuracy: 0.8810 - val_loss: 1.0367 - val_accuracy: 0.6942\n",
            "Epoch 17/50\n",
            "11/11 - 1s - loss: 0.3309 - accuracy: 0.8980 - val_loss: 0.9335 - val_accuracy: 0.6799\n",
            "Epoch 18/50\n",
            "11/11 - 1s - loss: 0.2995 - accuracy: 0.8964 - val_loss: 1.0948 - val_accuracy: 0.6978\n",
            "Epoch 19/50\n",
            "11/11 - 1s - loss: 0.2787 - accuracy: 0.9057 - val_loss: 1.1275 - val_accuracy: 0.7014\n",
            "Epoch 20/50\n",
            "11/11 - 1s - loss: 0.2652 - accuracy: 0.9134 - val_loss: 1.1755 - val_accuracy: 0.7050\n",
            "Epoch 21/50\n",
            "11/11 - 1s - loss: 0.2483 - accuracy: 0.9150 - val_loss: 1.1577 - val_accuracy: 0.7014\n",
            "Epoch 22/50\n",
            "11/11 - 1s - loss: 0.2371 - accuracy: 0.9073 - val_loss: 1.1771 - val_accuracy: 0.7122\n",
            "Epoch 23/50\n",
            "11/11 - 1s - loss: 0.2272 - accuracy: 0.9134 - val_loss: 1.1199 - val_accuracy: 0.6871\n",
            "Epoch 24/50\n",
            "11/11 - 1s - loss: 0.2302 - accuracy: 0.9227 - val_loss: 1.0974 - val_accuracy: 0.6691\n",
            "Epoch 25/50\n",
            "11/11 - 1s - loss: 0.2288 - accuracy: 0.9088 - val_loss: 1.0958 - val_accuracy: 0.6871\n",
            "Epoch 26/50\n",
            "11/11 - 1s - loss: 0.2209 - accuracy: 0.9119 - val_loss: 1.0835 - val_accuracy: 0.6763\n",
            "Epoch 27/50\n",
            "11/11 - 1s - loss: 0.2090 - accuracy: 0.9413 - val_loss: 1.0960 - val_accuracy: 0.6619\n",
            "Epoch 28/50\n",
            "11/11 - 1s - loss: 0.1905 - accuracy: 0.9397 - val_loss: 1.1957 - val_accuracy: 0.6619\n",
            "Epoch 29/50\n",
            "11/11 - 1s - loss: 0.1810 - accuracy: 0.9490 - val_loss: 1.2059 - val_accuracy: 0.6691\n",
            "Epoch 30/50\n",
            "11/11 - 1s - loss: 0.1812 - accuracy: 0.9320 - val_loss: 1.2009 - val_accuracy: 0.6978\n",
            "Epoch 31/50\n",
            "11/11 - 1s - loss: 0.1802 - accuracy: 0.9382 - val_loss: 1.1326 - val_accuracy: 0.6619\n",
            "Epoch 32/50\n",
            "11/11 - 1s - loss: 0.1663 - accuracy: 0.9413 - val_loss: 1.2296 - val_accuracy: 0.6619\n",
            "Epoch 33/50\n",
            "11/11 - 1s - loss: 0.1744 - accuracy: 0.9397 - val_loss: 1.2344 - val_accuracy: 0.6583\n",
            "Epoch 34/50\n",
            "11/11 - 1s - loss: 0.1636 - accuracy: 0.9413 - val_loss: 1.2105 - val_accuracy: 0.6655\n",
            "Epoch 35/50\n",
            "11/11 - 1s - loss: 0.1708 - accuracy: 0.9243 - val_loss: 1.2355 - val_accuracy: 0.6583\n",
            "Epoch 36/50\n",
            "11/11 - 1s - loss: 0.1686 - accuracy: 0.9382 - val_loss: 1.2452 - val_accuracy: 0.6978\n",
            "Epoch 37/50\n",
            "11/11 - 1s - loss: 0.1639 - accuracy: 0.9428 - val_loss: 1.1687 - val_accuracy: 0.6619\n",
            "Epoch 38/50\n",
            "11/11 - 1s - loss: 0.1664 - accuracy: 0.9289 - val_loss: 1.2729 - val_accuracy: 0.7050\n",
            "Epoch 39/50\n",
            "11/11 - 1s - loss: 0.1681 - accuracy: 0.9444 - val_loss: 1.2654 - val_accuracy: 0.6619\n",
            "Epoch 40/50\n",
            "11/11 - 1s - loss: 0.1649 - accuracy: 0.9444 - val_loss: 1.2687 - val_accuracy: 0.6547\n",
            "Epoch 41/50\n",
            "11/11 - 1s - loss: 0.1651 - accuracy: 0.9474 - val_loss: 1.2718 - val_accuracy: 0.6619\n",
            "Epoch 42/50\n",
            "11/11 - 1s - loss: 0.1639 - accuracy: 0.9289 - val_loss: 1.3507 - val_accuracy: 0.7194\n",
            "Epoch 43/50\n",
            "11/11 - 1s - loss: 0.2217 - accuracy: 0.9335 - val_loss: 1.2122 - val_accuracy: 0.5468\n",
            "Epoch 44/50\n",
            "11/11 - 1s - loss: 0.1827 - accuracy: 0.9366 - val_loss: 1.2104 - val_accuracy: 0.6942\n",
            "Epoch 45/50\n",
            "11/11 - 1s - loss: 0.1679 - accuracy: 0.9444 - val_loss: 1.2780 - val_accuracy: 0.6259\n",
            "Epoch 46/50\n",
            "11/11 - 1s - loss: 0.1531 - accuracy: 0.9397 - val_loss: 1.3272 - val_accuracy: 0.6511\n",
            "Epoch 47/50\n",
            "11/11 - 1s - loss: 0.1504 - accuracy: 0.9459 - val_loss: 1.3060 - val_accuracy: 0.6439\n",
            "Epoch 48/50\n",
            "11/11 - 1s - loss: 0.1604 - accuracy: 0.9397 - val_loss: 1.3022 - val_accuracy: 0.6367\n",
            "Epoch 49/50\n",
            "11/11 - 1s - loss: 0.1478 - accuracy: 0.9459 - val_loss: 1.3126 - val_accuracy: 0.6547\n",
            "Epoch 50/50\n",
            "11/11 - 1s - loss: 0.1515 - accuracy: 0.9289 - val_loss: 1.2856 - val_accuracy: 0.6583\n",
            "CPU times: user 1min 8s, sys: 5.19 s, total: 1min 13s\n",
            "Wall time: 1min 7s\n"
          ],
          "name": "stdout"
        },
        {
          "output_type": "execute_result",
          "data": {
            "text/plain": [
              "<tensorflow.python.keras.callbacks.History at 0x7f5c2ca3a550>"
            ]
          },
          "metadata": {
            "tags": []
          },
          "execution_count": 18
        }
      ]
    },
    {
      "cell_type": "code",
      "metadata": {
        "id": "60f0XSLlA8S9",
        "colab_type": "code",
        "outputId": "9ee0f1af-0586-4b95-950e-be8040237c50",
        "colab": {
          "base_uri": "https://localhost:8080/",
          "height": 51
        }
      },
      "source": [
        "level_model.evaluate(X_test, y_test)"
      ],
      "execution_count": 19,
      "outputs": [
        {
          "output_type": "stream",
          "text": [
            "9/9 [==============================] - 0s 27ms/step - loss: 1.2856 - accuracy: 0.6583\n"
          ],
          "name": "stdout"
        },
        {
          "output_type": "execute_result",
          "data": {
            "text/plain": [
              "[1.285625696182251, 0.6582733988761902]"
            ]
          },
          "metadata": {
            "tags": []
          },
          "execution_count": 19
        }
      ]
    },
    {
      "cell_type": "code",
      "metadata": {
        "id": "rth0CjuFBLNB",
        "colab_type": "code",
        "outputId": "7ccbd48a-ec4a-4a8d-e43c-c2e8f4318140",
        "colab": {
          "base_uri": "https://localhost:8080/",
          "height": 1000
        }
      },
      "source": [
        "X_train, X_test, y_train, y_test = train_test_split(X, y_genre, test_size=0.3, random_state=73)\n",
        "genre_model = genClassLSTM(10)\n",
        "%time genre_model.fit(X_train, y_train, shuffle=True, validation_data=(X_test, y_test), verbose=2, batch_size=64, epochs=50)"
      ],
      "execution_count": 20,
      "outputs": [
        {
          "output_type": "stream",
          "text": [
            "Model: \"sequential_2\"\n",
            "_________________________________________________________________\n",
            "Layer (type)                 Output Shape              Param #   \n",
            "=================================================================\n",
            "embedding_2 (Embedding)      (None, 1000, 128)         640000    \n",
            "_________________________________________________________________\n",
            "lstm_4 (LSTM)                (None, 1000, 64)          49408     \n",
            "_________________________________________________________________\n",
            "dropout_4 (Dropout)          (None, 1000, 64)          0         \n",
            "_________________________________________________________________\n",
            "lstm_5 (LSTM)                (None, 32)                12416     \n",
            "_________________________________________________________________\n",
            "dropout_5 (Dropout)          (None, 32)                0         \n",
            "_________________________________________________________________\n",
            "dense_2 (Dense)              (None, 10)                330       \n",
            "=================================================================\n",
            "Total params: 702,154\n",
            "Trainable params: 702,154\n",
            "Non-trainable params: 0\n",
            "_________________________________________________________________\n",
            "Epoch 1/50\n",
            "11/11 - 2s - loss: 2.2847 - accuracy: 0.2102 - val_loss: 2.2520 - val_accuracy: 0.2338\n",
            "Epoch 2/50\n",
            "11/11 - 1s - loss: 2.1991 - accuracy: 0.2427 - val_loss: 2.1890 - val_accuracy: 0.2014\n",
            "Epoch 3/50\n",
            "11/11 - 1s - loss: 2.0783 - accuracy: 0.2952 - val_loss: 2.1628 - val_accuracy: 0.2194\n",
            "Epoch 4/50\n",
            "11/11 - 1s - loss: 1.8610 - accuracy: 0.3663 - val_loss: 2.1938 - val_accuracy: 0.1763\n",
            "Epoch 5/50\n",
            "11/11 - 1s - loss: 1.6532 - accuracy: 0.4173 - val_loss: 2.1641 - val_accuracy: 0.2626\n",
            "Epoch 6/50\n",
            "11/11 - 1s - loss: 1.4864 - accuracy: 0.4590 - val_loss: 2.1709 - val_accuracy: 0.2194\n",
            "Epoch 7/50\n",
            "11/11 - 1s - loss: 1.3950 - accuracy: 0.4791 - val_loss: 2.2258 - val_accuracy: 0.2374\n",
            "Epoch 8/50\n",
            "11/11 - 1s - loss: 1.3433 - accuracy: 0.5116 - val_loss: 2.1794 - val_accuracy: 0.2302\n",
            "Epoch 9/50\n",
            "11/11 - 1s - loss: 1.2224 - accuracy: 0.5827 - val_loss: 2.2094 - val_accuracy: 0.2590\n",
            "Epoch 10/50\n",
            "11/11 - 1s - loss: 1.1113 - accuracy: 0.6461 - val_loss: 2.3493 - val_accuracy: 0.2410\n",
            "Epoch 11/50\n",
            "11/11 - 1s - loss: 1.0214 - accuracy: 0.6940 - val_loss: 2.2826 - val_accuracy: 0.2410\n",
            "Epoch 12/50\n",
            "11/11 - 1s - loss: 0.9263 - accuracy: 0.7326 - val_loss: 2.4918 - val_accuracy: 0.2086\n",
            "Epoch 13/50\n",
            "11/11 - 1s - loss: 0.8590 - accuracy: 0.7249 - val_loss: 2.3750 - val_accuracy: 0.2410\n",
            "Epoch 14/50\n",
            "11/11 - 1s - loss: 0.7811 - accuracy: 0.7635 - val_loss: 2.4750 - val_accuracy: 0.2302\n",
            "Epoch 15/50\n",
            "11/11 - 1s - loss: 0.6860 - accuracy: 0.7991 - val_loss: 2.6439 - val_accuracy: 0.2482\n",
            "Epoch 16/50\n",
            "11/11 - 1s - loss: 0.5995 - accuracy: 0.8346 - val_loss: 2.8408 - val_accuracy: 0.2518\n",
            "Epoch 17/50\n",
            "11/11 - 1s - loss: 0.5314 - accuracy: 0.8594 - val_loss: 2.9401 - val_accuracy: 0.2014\n",
            "Epoch 18/50\n",
            "11/11 - 1s - loss: 0.5499 - accuracy: 0.8454 - val_loss: 2.9491 - val_accuracy: 0.2158\n",
            "Epoch 19/50\n",
            "11/11 - 1s - loss: 0.4828 - accuracy: 0.8547 - val_loss: 2.7855 - val_accuracy: 0.2590\n",
            "Epoch 20/50\n",
            "11/11 - 1s - loss: 0.4446 - accuracy: 0.8717 - val_loss: 2.9137 - val_accuracy: 0.2482\n",
            "Epoch 21/50\n",
            "11/11 - 1s - loss: 0.4362 - accuracy: 0.8532 - val_loss: 2.9722 - val_accuracy: 0.2158\n",
            "Epoch 22/50\n",
            "11/11 - 1s - loss: 0.4237 - accuracy: 0.8671 - val_loss: 3.1742 - val_accuracy: 0.2230\n",
            "Epoch 23/50\n",
            "11/11 - 1s - loss: 0.4211 - accuracy: 0.8671 - val_loss: 3.0578 - val_accuracy: 0.2446\n",
            "Epoch 24/50\n",
            "11/11 - 1s - loss: 0.4095 - accuracy: 0.8655 - val_loss: 3.1725 - val_accuracy: 0.2410\n",
            "Epoch 25/50\n",
            "11/11 - 1s - loss: 0.3991 - accuracy: 0.8655 - val_loss: 3.2758 - val_accuracy: 0.2194\n",
            "Epoch 26/50\n",
            "11/11 - 1s - loss: 0.3979 - accuracy: 0.8640 - val_loss: 3.2791 - val_accuracy: 0.2158\n",
            "Epoch 27/50\n",
            "11/11 - 1s - loss: 0.3903 - accuracy: 0.8686 - val_loss: 3.2351 - val_accuracy: 0.2374\n",
            "Epoch 28/50\n",
            "11/11 - 1s - loss: 0.3970 - accuracy: 0.8640 - val_loss: 3.2170 - val_accuracy: 0.2446\n",
            "Epoch 29/50\n",
            "11/11 - 1s - loss: 0.3854 - accuracy: 0.8733 - val_loss: 3.1897 - val_accuracy: 0.2446\n",
            "Epoch 30/50\n",
            "11/11 - 1s - loss: 0.3894 - accuracy: 0.8686 - val_loss: 3.2028 - val_accuracy: 0.2482\n",
            "Epoch 31/50\n",
            "11/11 - 1s - loss: 0.3767 - accuracy: 0.8733 - val_loss: 3.2654 - val_accuracy: 0.2482\n",
            "Epoch 32/50\n",
            "11/11 - 1s - loss: 0.3829 - accuracy: 0.8609 - val_loss: 3.3065 - val_accuracy: 0.2662\n",
            "Epoch 33/50\n",
            "11/11 - 1s - loss: 0.3797 - accuracy: 0.8671 - val_loss: 3.2986 - val_accuracy: 0.2518\n",
            "Epoch 34/50\n",
            "11/11 - 1s - loss: 0.3817 - accuracy: 0.8671 - val_loss: 3.3596 - val_accuracy: 0.2446\n",
            "Epoch 35/50\n",
            "11/11 - 1s - loss: 0.3777 - accuracy: 0.8702 - val_loss: 3.3757 - val_accuracy: 0.2446\n",
            "Epoch 36/50\n",
            "11/11 - 1s - loss: 0.3789 - accuracy: 0.8655 - val_loss: 3.4141 - val_accuracy: 0.2446\n",
            "Epoch 37/50\n",
            "11/11 - 1s - loss: 0.3778 - accuracy: 0.8717 - val_loss: 3.4169 - val_accuracy: 0.2482\n",
            "Epoch 38/50\n",
            "11/11 - 1s - loss: 0.3710 - accuracy: 0.8671 - val_loss: 3.4127 - val_accuracy: 0.2302\n",
            "Epoch 39/50\n",
            "11/11 - 1s - loss: 0.3810 - accuracy: 0.8609 - val_loss: 3.3888 - val_accuracy: 0.2662\n",
            "Epoch 40/50\n",
            "11/11 - 1s - loss: 0.3745 - accuracy: 0.8717 - val_loss: 3.3498 - val_accuracy: 0.2338\n",
            "Epoch 41/50\n",
            "11/11 - 1s - loss: 0.3753 - accuracy: 0.8655 - val_loss: 3.3793 - val_accuracy: 0.2122\n",
            "Epoch 42/50\n",
            "11/11 - 1s - loss: 0.3821 - accuracy: 0.8686 - val_loss: 3.3693 - val_accuracy: 0.2266\n",
            "Epoch 43/50\n",
            "11/11 - 1s - loss: 0.3749 - accuracy: 0.8671 - val_loss: 3.3649 - val_accuracy: 0.2194\n",
            "Epoch 44/50\n",
            "11/11 - 1s - loss: 0.3763 - accuracy: 0.8702 - val_loss: 3.4006 - val_accuracy: 0.2266\n",
            "Epoch 45/50\n",
            "11/11 - 1s - loss: 0.3706 - accuracy: 0.8686 - val_loss: 3.4399 - val_accuracy: 0.2266\n",
            "Epoch 46/50\n",
            "11/11 - 1s - loss: 0.3736 - accuracy: 0.8686 - val_loss: 3.4892 - val_accuracy: 0.2194\n",
            "Epoch 47/50\n",
            "11/11 - 1s - loss: 0.3695 - accuracy: 0.8702 - val_loss: 3.4480 - val_accuracy: 0.2338\n",
            "Epoch 48/50\n",
            "11/11 - 1s - loss: 0.3758 - accuracy: 0.8655 - val_loss: 3.4325 - val_accuracy: 0.2410\n",
            "Epoch 49/50\n",
            "11/11 - 1s - loss: 0.3744 - accuracy: 0.8624 - val_loss: 3.4511 - val_accuracy: 0.2410\n",
            "Epoch 50/50\n",
            "11/11 - 1s - loss: 0.3695 - accuracy: 0.8733 - val_loss: 3.5002 - val_accuracy: 0.2374\n",
            "CPU times: user 1min 8s, sys: 4.89 s, total: 1min 13s\n",
            "Wall time: 1min 7s\n"
          ],
          "name": "stdout"
        },
        {
          "output_type": "execute_result",
          "data": {
            "text/plain": [
              "<tensorflow.python.keras.callbacks.History at 0x7f5c2c039240>"
            ]
          },
          "metadata": {
            "tags": []
          },
          "execution_count": 20
        }
      ]
    },
    {
      "cell_type": "code",
      "metadata": {
        "id": "4UL8C1CUBQ7K",
        "colab_type": "code",
        "outputId": "ab3d7513-2c49-45f4-a37f-03a697155f0a",
        "colab": {
          "base_uri": "https://localhost:8080/",
          "height": 51
        }
      },
      "source": [
        "genre_model.evaluate(X_test, y_test)"
      ],
      "execution_count": 21,
      "outputs": [
        {
          "output_type": "stream",
          "text": [
            "9/9 [==============================] - 0s 27ms/step - loss: 3.5002 - accuracy: 0.2374\n"
          ],
          "name": "stdout"
        },
        {
          "output_type": "execute_result",
          "data": {
            "text/plain": [
              "[3.500155448913574, 0.2374100685119629]"
            ]
          },
          "metadata": {
            "tags": []
          },
          "execution_count": 21
        }
      ]
    }
  ]
}